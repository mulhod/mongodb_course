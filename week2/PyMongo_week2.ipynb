{
 "cells": [
  {
   "cell_type": "markdown",
   "metadata": {},
   "source": [
    "# Personal notes as I follow the lecture videos on PyMongo"
   ]
  },
  {
   "cell_type": "code",
   "execution_count": 4,
   "metadata": {
    "collapsed": true
   },
   "outputs": [],
   "source": [
    "import pymongo"
   ]
  },
  {
   "cell_type": "code",
   "execution_count": 5,
   "metadata": {
    "collapsed": true
   },
   "outputs": [],
   "source": [
    "import sys"
   ]
  },
  {
   "cell_type": "markdown",
   "metadata": {},
   "source": [
    "#Make the school DB/scores collection in the Mongo shell\n",
    "- I ran the following javascript code from the week2 folder to create the db/collection:"
   ]
  },
  {
   "cell_type": "raw",
   "metadata": {},
   "source": [
    "use school\n",
    "db.scores.drop();\n",
    "var types = ['exam', 'homework', 'quiz']\n",
    "for (student_id = 0; student_id < 100; student_id++) {\n",
    "    for (type=0; type < 3; type++) {\n",
    "\tvar r = {'student_id':student_id, 'type':types[type], 'score':Math.random() * 100};\n",
    "\tdb.scores.insert(r);\n",
    "    }\n",
    "}"
   ]
  },
  {
   "cell_type": "code",
   "execution_count": 6,
   "metadata": {
    "collapsed": true
   },
   "outputs": [],
   "source": [
    "# Establish a connection to the DB"
   ]
  },
  {
   "cell_type": "code",
   "execution_count": 7,
   "metadata": {
    "collapsed": true
   },
   "outputs": [],
   "source": [
    "# I already have the MongoDB server up and running\n",
    "connection = pymongo.MongoClient(\"mongodb://localhost\")"
   ]
  },
  {
   "cell_type": "code",
   "execution_count": 8,
   "metadata": {
    "collapsed": false
   },
   "outputs": [],
   "source": [
    "# Get a handle to the school DB"
   ]
  },
  {
   "cell_type": "code",
   "execution_count": 9,
   "metadata": {
    "collapsed": true
   },
   "outputs": [],
   "source": [
    "db = connection.school\n",
    "scores = db.scores"
   ]
  },
  {
   "cell_type": "code",
   "execution_count": 10,
   "metadata": {
    "collapsed": true
   },
   "outputs": [],
   "source": [
    "# Since the lectures refer to functions and other pieces of code\n",
    "# defined within Python modules in the week2 directories, I'm going\n",
    "# to import those modules as I need them"
   ]
  },
  {
   "cell_type": "code",
   "execution_count": 11,
   "metadata": {
    "collapsed": false
   },
   "outputs": [
    {
     "data": {
      "text/plain": [
       "'/home/mmulholland/Documents/Dropbox/Docs/mongodb/week2'"
      ]
     },
     "execution_count": 11,
     "metadata": {},
     "output_type": "execute_result"
    }
   ],
   "source": [
    "import os\n",
    "os.getcwd()"
   ]
  },
  {
   "cell_type": "code",
   "execution_count": 12,
   "metadata": {
    "collapsed": true
   },
   "outputs": [],
   "source": [
    "sys.path.append('pymongo_find_find_one_and_cursors')"
   ]
  },
  {
   "cell_type": "code",
   "execution_count": 13,
   "metadata": {
    "collapsed": false
   },
   "outputs": [
    {
     "name": "stdout",
     "output_type": "stream",
     "text": [
      "find, reporting for duty\n",
      "{u'student_id': 0.0, u'_id': ObjectId('551b80de2de91ca1d62b6f15'), u'type': u'exam', u'score': 86.91733828745782}\n",
      "{u'student_id': 1.0, u'_id': ObjectId('551b80de2de91ca1d62b6f18'), u'type': u'exam', u'score': 8.782691787928343}\n",
      "{u'student_id': 2.0, u'_id': ObjectId('551b80de2de91ca1d62b6f1b'), u'type': u'exam', u'score': 83.66279539186507}\n",
      "{u'student_id': 3.0, u'_id': ObjectId('551b80de2de91ca1d62b6f1e'), u'type': u'exam', u'score': 62.771864398382604}\n",
      "{u'student_id': 4.0, u'_id': ObjectId('551b80de2de91ca1d62b6f21'), u'type': u'exam', u'score': 18.03066183347255}\n",
      "{u'student_id': 5.0, u'_id': ObjectId('551b80de2de91ca1d62b6f24'), u'type': u'exam', u'score': 28.630962036550045}\n",
      "{u'student_id': 6.0, u'_id': ObjectId('551b80de2de91ca1d62b6f27'), u'type': u'exam', u'score': 37.57056426256895}\n",
      "{u'student_id': 7.0, u'_id': ObjectId('551b80de2de91ca1d62b6f2a'), u'type': u'exam', u'score': 82.9572540242225}\n",
      "{u'student_id': 8.0, u'_id': ObjectId('551b80de2de91ca1d62b6f2d'), u'type': u'exam', u'score': 34.63999617379159}\n",
      "{u'student_id': 9.0, u'_id': ObjectId('551b80de2de91ca1d62b6f30'), u'type': u'exam', u'score': 46.085967938415706}\n",
      "{u'student_id': 10.0, u'_id': ObjectId('551b80de2de91ca1d62b6f33'), u'type': u'exam', u'score': 87.9884694935754}\n"
     ]
    }
   ],
   "source": [
    "from using_find import find\n",
    "from using_find import find_one"
   ]
  },
  {
   "cell_type": "code",
   "execution_count": 14,
   "metadata": {
    "collapsed": false
   },
   "outputs": [
    {
     "name": "stdout",
     "output_type": "stream",
     "text": [
      "find, reporting for duty\n",
      "{u'student_id': 0.0, u'_id': ObjectId('551b80de2de91ca1d62b6f15'), u'type': u'exam', u'score': 86.91733828745782}\n",
      "{u'student_id': 1.0, u'_id': ObjectId('551b80de2de91ca1d62b6f18'), u'type': u'exam', u'score': 8.782691787928343}\n",
      "{u'student_id': 2.0, u'_id': ObjectId('551b80de2de91ca1d62b6f1b'), u'type': u'exam', u'score': 83.66279539186507}\n",
      "{u'student_id': 3.0, u'_id': ObjectId('551b80de2de91ca1d62b6f1e'), u'type': u'exam', u'score': 62.771864398382604}\n",
      "{u'student_id': 4.0, u'_id': ObjectId('551b80de2de91ca1d62b6f21'), u'type': u'exam', u'score': 18.03066183347255}\n",
      "{u'student_id': 5.0, u'_id': ObjectId('551b80de2de91ca1d62b6f24'), u'type': u'exam', u'score': 28.630962036550045}\n",
      "{u'student_id': 6.0, u'_id': ObjectId('551b80de2de91ca1d62b6f27'), u'type': u'exam', u'score': 37.57056426256895}\n",
      "{u'student_id': 7.0, u'_id': ObjectId('551b80de2de91ca1d62b6f2a'), u'type': u'exam', u'score': 82.9572540242225}\n",
      "{u'student_id': 8.0, u'_id': ObjectId('551b80de2de91ca1d62b6f2d'), u'type': u'exam', u'score': 34.63999617379159}\n",
      "{u'student_id': 9.0, u'_id': ObjectId('551b80de2de91ca1d62b6f30'), u'type': u'exam', u'score': 46.085967938415706}\n",
      "{u'student_id': 10.0, u'_id': ObjectId('551b80de2de91ca1d62b6f33'), u'type': u'exam', u'score': 87.9884694935754}\n"
     ]
    }
   ],
   "source": [
    "find()"
   ]
  },
  {
   "cell_type": "code",
   "execution_count": 15,
   "metadata": {
    "collapsed": false
   },
   "outputs": [],
   "source": [
    "# The important code in the find function\n",
    "# Defined a query variable, which is your basic Python dict and\n",
    "# looks pretty much exactly like a JSON doc\n",
    "_query = {'type': 'exam'}\n",
    "# Make a cursor variable, which calls the find() method\n",
    "_cursor = scores.find(_query)\n",
    "# Then, we can look inside the cursor"
   ]
  },
  {
   "cell_type": "code",
   "execution_count": 16,
   "metadata": {
    "collapsed": false
   },
   "outputs": [
    {
     "data": {
      "text/plain": [
       "[{u'_id': ObjectId('551b80de2de91ca1d62b6f15'),\n",
       "  u'score': 86.91733828745782,\n",
       "  u'student_id': 0.0,\n",
       "  u'type': u'exam'},\n",
       " {u'_id': ObjectId('551b80de2de91ca1d62b6f18'),\n",
       "  u'score': 8.782691787928343,\n",
       "  u'student_id': 1.0,\n",
       "  u'type': u'exam'},\n",
       " {u'_id': ObjectId('551b80de2de91ca1d62b6f1b'),\n",
       "  u'score': 83.66279539186507,\n",
       "  u'student_id': 2.0,\n",
       "  u'type': u'exam'},\n",
       " {u'_id': ObjectId('551b80de2de91ca1d62b6f1e'),\n",
       "  u'score': 62.771864398382604,\n",
       "  u'student_id': 3.0,\n",
       "  u'type': u'exam'},\n",
       " {u'_id': ObjectId('551b80de2de91ca1d62b6f21'),\n",
       "  u'score': 18.03066183347255,\n",
       "  u'student_id': 4.0,\n",
       "  u'type': u'exam'}]"
      ]
     },
     "execution_count": 16,
     "metadata": {},
     "output_type": "execute_result"
    }
   ],
   "source": [
    "list(_cursor)[:5]"
   ]
  },
  {
   "cell_type": "code",
   "execution_count": 17,
   "metadata": {
    "collapsed": false
   },
   "outputs": [
    {
     "name": "stdout",
     "output_type": "stream",
     "text": [
      "find one, reporting for duty\n",
      "{u'student_id': 10.0, u'_id': ObjectId('551b80de2de91ca1d62b6f33'), u'type': u'exam', u'score': 87.9884694935754}\n"
     ]
    }
   ],
   "source": [
    "# Let's take a look at find_one()\n",
    "find_one()"
   ]
  },
  {
   "cell_type": "code",
   "execution_count": 18,
   "metadata": {
    "collapsed": false
   },
   "outputs": [],
   "source": [
    "# This function uses the following query and runs the findOne()\n",
    "# method\n",
    "_query2 = {'student_id': 10}\n",
    "# The findOne/find_one method is run with the query and its result\n",
    "# is stored in a variable\n",
    "_doc = scores.find_one(_query2)"
   ]
  },
  {
   "cell_type": "code",
   "execution_count": 19,
   "metadata": {
    "collapsed": false
   },
   "outputs": [
    {
     "data": {
      "text/plain": [
       "{u'_id': ObjectId('551b80de2de91ca1d62b6f33'),\n",
       " u'score': 87.9884694935754,\n",
       " u'student_id': 10.0,\n",
       " u'type': u'exam'}"
      ]
     },
     "execution_count": 19,
     "metadata": {},
     "output_type": "execute_result"
    }
   ],
   "source": [
    "_doc"
   ]
  },
  {
   "cell_type": "markdown",
   "metadata": {},
   "source": [
    "#Quiz #1"
   ]
  },
  {
   "cell_type": "raw",
   "metadata": {},
   "source": [
    "Please enter the one line of python code that would be needed in place of XXX to find one document in the collection and have it print out properly.\n",
    "\n",
    "import pymongo\n",
    "import sys\n",
    "\n",
    "# establish a connection to the server, and use it to get a handle on the scores collection.\n",
    "connection = pymongo.MongoClient(\"mongodb://localhost\")\n",
    "\n",
    "# get a handle to the school database and the scores collection.\n",
    "db=connection.school\n",
    "scores = db.scores\n",
    "     \n",
    "try:\n",
    "        XXX\n",
    "        \n",
    "except Exception as e:\n",
    "        print \"Unexpected error:\", type(e), e\n",
    "\n",
    "print doc"
   ]
  },
  {
   "cell_type": "code",
   "execution_count": 20,
   "metadata": {
    "collapsed": false
   },
   "outputs": [
    {
     "name": "stdout",
     "output_type": "stream",
     "text": [
      "{u'student_id': 0.0, u'_id': ObjectId('551b80de2de91ca1d62b6f15'), u'type': u'exam', u'score': 86.91733828745782}\n"
     ]
    }
   ],
   "source": [
    "# Well, that's easy, we can just use find_one with no argument\n",
    "doc = scores.find_one()\n",
    "print(doc)"
   ]
  },
  {
   "cell_type": "code",
   "execution_count": 21,
   "metadata": {
    "collapsed": true
   },
   "outputs": [],
   "source": [
    "# Now on to the next video"
   ]
  },
  {
   "cell_type": "code",
   "execution_count": 22,
   "metadata": {
    "collapsed": false
   },
   "outputs": [
    {
     "name": "stdout",
     "output_type": "stream",
     "text": [
      "find, reporting for duty\n",
      "{u'student_id': 0.0, u'_id': ObjectId('551b80de2de91ca1d62b6f15')}\n",
      "{u'student_id': 1.0, u'_id': ObjectId('551b80de2de91ca1d62b6f18')}\n",
      "{u'student_id': 2.0, u'_id': ObjectId('551b80de2de91ca1d62b6f1b')}\n",
      "{u'student_id': 3.0, u'_id': ObjectId('551b80de2de91ca1d62b6f1e')}\n",
      "{u'student_id': 4.0, u'_id': ObjectId('551b80de2de91ca1d62b6f21')}\n",
      "{u'student_id': 5.0, u'_id': ObjectId('551b80de2de91ca1d62b6f24')}\n",
      "{u'student_id': 6.0, u'_id': ObjectId('551b80de2de91ca1d62b6f27')}\n",
      "{u'student_id': 7.0, u'_id': ObjectId('551b80de2de91ca1d62b6f2a')}\n",
      "{u'student_id': 8.0, u'_id': ObjectId('551b80de2de91ca1d62b6f2d')}\n",
      "{u'student_id': 9.0, u'_id': ObjectId('551b80de2de91ca1d62b6f30')}\n",
      "{u'student_id': 10.0, u'_id': ObjectId('551b80de2de91ca1d62b6f33')}\n"
     ]
    }
   ],
   "source": [
    "sys.path.append('pymongo_projecting_results_from_find')\n",
    "import using_find_with_projection as ufwp"
   ]
  },
  {
   "cell_type": "code",
   "execution_count": 23,
   "metadata": {
    "collapsed": true
   },
   "outputs": [],
   "source": [
    "# The idea here seems to be that you might want to query the DB\n",
    "# for some specific docs, but you only want to see certain fields\n",
    "# in the results"
   ]
  },
  {
   "cell_type": "code",
   "execution_count": 24,
   "metadata": {
    "collapsed": false
   },
   "outputs": [
    {
     "data": {
      "text/plain": [
       "[{u'student_id': 0.0},\n",
       " {u'student_id': 1.0},\n",
       " {u'student_id': 2.0},\n",
       " {u'student_id': 3.0},\n",
       " {u'student_id': 4.0}]"
      ]
     },
     "execution_count": 24,
     "metadata": {},
     "output_type": "execute_result"
    }
   ],
   "source": [
    "# To do this, one would use the 2nd positional argument of the\n",
    "# find() method\n",
    "query = {'type': 'exam'}\n",
    "projection = {'student_id':1, '_id':0}\n",
    "    # So, we only want to see the student_id field in the results,\n",
    "    # excluding the _id field\n",
    "    # NOTE: Normally, simply not including a field in the projection\n",
    "    #       will do the trick, but the _id field is special: It\n",
    "    #       must be actively suppressed by setting its value to 0\n",
    "    #       in order for it not to be printed.\n",
    "cursor = scores.find(query, projection)\n",
    "# Here's the first 5 results\n",
    "list(cursor)[:5]"
   ]
  },
  {
   "cell_type": "code",
   "execution_count": 25,
   "metadata": {
    "collapsed": false
   },
   "outputs": [
    {
     "name": "stdout",
     "output_type": "stream",
     "text": [
      "find, reporting for duty\n",
      "{u'student_id': 0.0, u'_id': ObjectId('551b80de2de91ca1d62b6f15')}\n",
      "{u'student_id': 1.0, u'_id': ObjectId('551b80de2de91ca1d62b6f18')}\n",
      "{u'student_id': 2.0, u'_id': ObjectId('551b80de2de91ca1d62b6f1b')}\n",
      "{u'student_id': 3.0, u'_id': ObjectId('551b80de2de91ca1d62b6f1e')}\n",
      "{u'student_id': 4.0, u'_id': ObjectId('551b80de2de91ca1d62b6f21')}\n",
      "{u'student_id': 5.0, u'_id': ObjectId('551b80de2de91ca1d62b6f24')}\n",
      "{u'student_id': 6.0, u'_id': ObjectId('551b80de2de91ca1d62b6f27')}\n",
      "{u'student_id': 7.0, u'_id': ObjectId('551b80de2de91ca1d62b6f2a')}\n",
      "{u'student_id': 8.0, u'_id': ObjectId('551b80de2de91ca1d62b6f2d')}\n",
      "{u'student_id': 9.0, u'_id': ObjectId('551b80de2de91ca1d62b6f30')}\n",
      "{u'student_id': 10.0, u'_id': ObjectId('551b80de2de91ca1d62b6f33')}\n"
     ]
    }
   ],
   "source": [
    "# Let's run the find() method from the program\n",
    "ufwp.find()"
   ]
  },
  {
   "cell_type": "code",
   "execution_count": 26,
   "metadata": {
    "collapsed": true
   },
   "outputs": [],
   "source": [
    "# As you can see both fields are printed out since the projection\n",
    "# is defined as {'student_id':1}, which does not specifically exclude\n",
    "# the _id field even though that is what he is doing in the video\n",
    "# simply uncomment the line with the projection variable definition\n",
    "# and comment the line below it to get the desired behavior)"
   ]
  },
  {
   "cell_type": "markdown",
   "metadata": {},
   "source": [
    "#Accessing the documentation\n",
    "- Check out http://api.mongodb.org/\n",
    "##API documentation\n",
    "- Go to http://api.mongodb.org/python/3.0rc0/api/index.html (for the 3.0 release candidate version of PyMongo)\n",
    "- The part that is most useful to us right now is the `collection` module"
   ]
  },
  {
   "cell_type": "markdown",
   "metadata": {},
   "source": [
    "#Quiz #2"
   ]
  },
  {
   "cell_type": "markdown",
   "metadata": {},
   "source": [
    "Which of the following could work using Pymongo, depending on variable names, to project just the student_id from the scores collection using a find command.\n",
    "- cursor = students.find( { }, { 'student_id' : 1, '_id' : 0 } )\n",
    "- cursor = students.find( { 'student_id' : 1, '_id' : 0 } )\n",
    "- cursor = students.find( { 'student_id' : 1 } )\n",
    "- cursor = students.find( { }, { student_id : 1, _id : 0 } )"
   ]
  },
  {
   "cell_type": "code",
   "execution_count": 27,
   "metadata": {
    "collapsed": true
   },
   "outputs": [],
   "source": [
    "# The correct answer is the first choice\n",
    "# You might be wondering how the first and last choices differ: the\n",
    "# answer is that representations of dicts/JSON-type docs in Python\n",
    "# MUST have quoted strings for the keys (if they're strings at all).\n",
    "# The other choices are using the projection as the first argument\n",
    "# and actually have no second argument."
   ]
  },
  {
   "cell_type": "markdown",
   "metadata": {
    "collapsed": true
   },
   "source": [
    "#Using GT/LT"
   ]
  },
  {
   "cell_type": "code",
   "execution_count": 28,
   "metadata": {
    "collapsed": false
   },
   "outputs": [
    {
     "name": "stdout",
     "output_type": "stream",
     "text": [
      "find, reporting for duty\n",
      "{u'student_id': 3.0, u'_id': ObjectId('551b80de2de91ca1d62b6f1e'), u'type': u'exam', u'score': 62.771864398382604}\n",
      "{u'student_id': 17.0, u'_id': ObjectId('551b80de2de91ca1d62b6f48'), u'type': u'exam', u'score': 69.9088478460908}\n",
      "{u'student_id': 20.0, u'_id': ObjectId('551b80de2de91ca1d62b6f51'), u'type': u'exam', u'score': 64.12830397021025}\n",
      "{u'student_id': 21.0, u'_id': ObjectId('551b80de2de91ca1d62b6f54'), u'type': u'exam', u'score': 68.15341121982783}\n",
      "{u'student_id': 23.0, u'_id': ObjectId('551b80de2de91ca1d62b6f5a'), u'type': u'exam', u'score': 62.25057523697615}\n",
      "{u'student_id': 40.0, u'_id': ObjectId('551b80de2de91ca1d62b6f8d'), u'type': u'exam', u'score': 55.638261046260595}\n",
      "{u'student_id': 41.0, u'_id': ObjectId('551b80de2de91ca1d62b6f90'), u'type': u'exam', u'score': 52.38866372965276}\n",
      "{u'student_id': 44.0, u'_id': ObjectId('551b80de2de91ca1d62b6f99'), u'type': u'exam', u'score': 68.71254637371749}\n",
      "{u'student_id': 47.0, u'_id': ObjectId('551b80de2de91ca1d62b6fa2'), u'type': u'exam', u'score': 68.06476078927517}\n",
      "{u'student_id': 58.0, u'_id': ObjectId('551b80de2de91ca1d62b6fc3'), u'type': u'exam', u'score': 58.78835846669972}\n",
      "{u'student_id': 70.0, u'_id': ObjectId('551b80de2de91ca1d62b6fe7'), u'type': u'exam', u'score': 54.817210556939244}\n"
     ]
    }
   ],
   "source": [
    "import sys\n",
    "sys.path.append('pymongo_using_gt_and_lt')\n",
    "import find_using_gt_lt"
   ]
  },
  {
   "cell_type": "markdown",
   "metadata": {},
   "source": [
    "- gt and lt can be used in the same way as in the Mongo shell"
   ]
  },
  {
   "cell_type": "code",
   "execution_count": 29,
   "metadata": {
    "collapsed": true
   },
   "outputs": [],
   "source": [
    "query = {'type': 'exam', 'score': {'$gt': 50, '$lt': 70}}"
   ]
  },
  {
   "cell_type": "code",
   "execution_count": 30,
   "metadata": {
    "collapsed": false
   },
   "outputs": [],
   "source": [
    "cursor = scores.find(query)"
   ]
  },
  {
   "cell_type": "code",
   "execution_count": 31,
   "metadata": {
    "collapsed": false
   },
   "outputs": [
    {
     "data": {
      "text/plain": [
       "[{u'_id': ObjectId('551b80de2de91ca1d62b6f1e'),\n",
       "  u'score': 62.771864398382604,\n",
       "  u'student_id': 3.0,\n",
       "  u'type': u'exam'},\n",
       " {u'_id': ObjectId('551b80de2de91ca1d62b6f48'),\n",
       "  u'score': 69.9088478460908,\n",
       "  u'student_id': 17.0,\n",
       "  u'type': u'exam'},\n",
       " {u'_id': ObjectId('551b80de2de91ca1d62b6f51'),\n",
       "  u'score': 64.12830397021025,\n",
       "  u'student_id': 20.0,\n",
       "  u'type': u'exam'},\n",
       " {u'_id': ObjectId('551b80de2de91ca1d62b6f54'),\n",
       "  u'score': 68.15341121982783,\n",
       "  u'student_id': 21.0,\n",
       "  u'type': u'exam'},\n",
       " {u'_id': ObjectId('551b80de2de91ca1d62b6f5a'),\n",
       "  u'score': 62.25057523697615,\n",
       "  u'student_id': 23.0,\n",
       "  u'type': u'exam'}]"
      ]
     },
     "execution_count": 31,
     "metadata": {},
     "output_type": "execute_result"
    }
   ],
   "source": [
    "list(cursor)[:5]"
   ]
  },
  {
   "cell_type": "code",
   "execution_count": 32,
   "metadata": {
    "collapsed": true
   },
   "outputs": [],
   "source": [
    "# Let's run the Python script"
   ]
  },
  {
   "cell_type": "code",
   "execution_count": 33,
   "metadata": {
    "collapsed": false
   },
   "outputs": [
    {
     "name": "stdout",
     "output_type": "stream",
     "text": [
      "find, reporting for duty\n",
      "{u'student_id': 3.0, u'_id': ObjectId('551b80de2de91ca1d62b6f1e'), u'type': u'exam', u'score': 62.771864398382604}\n",
      "{u'student_id': 17.0, u'_id': ObjectId('551b80de2de91ca1d62b6f48'), u'type': u'exam', u'score': 69.9088478460908}\n",
      "{u'student_id': 20.0, u'_id': ObjectId('551b80de2de91ca1d62b6f51'), u'type': u'exam', u'score': 64.12830397021025}\n",
      "{u'student_id': 21.0, u'_id': ObjectId('551b80de2de91ca1d62b6f54'), u'type': u'exam', u'score': 68.15341121982783}\n",
      "{u'student_id': 23.0, u'_id': ObjectId('551b80de2de91ca1d62b6f5a'), u'type': u'exam', u'score': 62.25057523697615}\n",
      "{u'student_id': 40.0, u'_id': ObjectId('551b80de2de91ca1d62b6f8d'), u'type': u'exam', u'score': 55.638261046260595}\n",
      "{u'student_id': 41.0, u'_id': ObjectId('551b80de2de91ca1d62b6f90'), u'type': u'exam', u'score': 52.38866372965276}\n",
      "{u'student_id': 44.0, u'_id': ObjectId('551b80de2de91ca1d62b6f99'), u'type': u'exam', u'score': 68.71254637371749}\n",
      "{u'student_id': 47.0, u'_id': ObjectId('551b80de2de91ca1d62b6fa2'), u'type': u'exam', u'score': 68.06476078927517}\n",
      "{u'student_id': 58.0, u'_id': ObjectId('551b80de2de91ca1d62b6fc3'), u'type': u'exam', u'score': 58.78835846669972}\n",
      "{u'student_id': 70.0, u'_id': ObjectId('551b80de2de91ca1d62b6fe7'), u'type': u'exam', u'score': 54.817210556939244}\n"
     ]
    }
   ],
   "source": [
    "find_using_gt_lt.find()"
   ]
  },
  {
   "cell_type": "code",
   "execution_count": 48,
   "metadata": {
    "collapsed": false
   },
   "outputs": [
    {
     "name": "stdout",
     "output_type": "stream",
     "text": [
      "  % Total    % Received % Xferd  Average Speed   Time    Time     Time  Current\n",
      "                                 Dload  Upload   Total   Spent    Left  Speed\n",
      "100 33312    0 33312    0     0   360k      0 --:--:-- --:--:-- --:--:--  361k\n"
     ]
    }
   ],
   "source": [
    "# Here, I'm going to follow what's in the lecture video to get the\n",
    "# reddit DB (even though it's already included in the folder they\n",
    "# provided us)\n",
    "# The Ipython session can be used as if it were a regular Linux-style\n",
    "# terminal by prepending \"!\" to the beginning of the command you want\n",
    "# to run\n",
    "!curl http://www.reddit.com/r/technology/.json > reddit.json"
   ]
  },
  {
   "cell_type": "code",
   "execution_count": 35,
   "metadata": {
    "collapsed": false
   },
   "outputs": [
    {
     "name": "stdout",
     "output_type": "stream",
     "text": [
      "{\n",
      "    \"data\": {\n",
      "        \"after\": \"t3_315s3q\",\n",
      "        \"before\": null,\n",
      "        \"children\": [\n",
      "            {\n",
      "                \"data\": {\n",
      "                    \"approved_by\": null,\n",
      "                    \"archived\": false,\n",
      "                    \"author\": \"Comcast_AMA\",\n",
      "                    \"author_flair_css_class\": \"verified\",\n",
      "                    \"author_flair_text\": \"Comcast Corporation\",\n",
      "                    \"banned_by\": null,\n",
      "                    \"clicked\": false,\n",
      "                    \"created\": 1427928222.0,\n",
      "                    \"created_utc\": 1427899422.0,\n",
      "                    \"distinguished\": null,\n",
      "                    \"domain\": \"self.technology\",\n",
      "                    \"downs\": 0,\n",
      "                    \"edited\": 1427903734.0,\n",
      "                    \"gilded\": 1,\n",
      "                    \"hidden\": false,\n",
      "                    \"id\": \"31288p\",\n",
      "                    \"is_self\": true,\n",
      "                    \"likes\": null,\n",
      "                    \"link_flair_css_class\": \"comcast\",\n",
      "                    \"link_flair_text\": \"AMA\",\n",
      "                    \"media\": null,\n",
      "                    \"media_embed\": {},\n",
      "                    \"mod_reports\": [],\n",
      "                    \"name\": \"t3_31288p\",\n",
      "                    \"num_comments\": 270,\n",
      "\u001b[K\n"
     ]
    }
   ],
   "source": [
    "# Let's see what the json file looks like\n",
    "!cat reddit.json | python -m json.tool | more"
   ]
  },
  {
   "cell_type": "code",
   "execution_count": 49,
   "metadata": {
    "collapsed": true
   },
   "outputs": [],
   "source": [
    "# Let's follow the code in the read_reddit.py script\n",
    "import json\n",
    "import urllib2"
   ]
  },
  {
   "cell_type": "code",
   "execution_count": 50,
   "metadata": {
    "collapsed": false
   },
   "outputs": [],
   "source": [
    "# Create the new database and the new collection within the database\n",
    "db_reddit = connection.reddit\n",
    "stories = db_reddit.stories"
   ]
  },
  {
   "cell_type": "code",
   "execution_count": 51,
   "metadata": {
    "collapsed": false
   },
   "outputs": [],
   "source": [
    "# Read the data from reddit\n",
    "reddit_page = urllib2.urlopen('http://www.reddit.com/r/technology/.json')"
   ]
  },
  {
   "cell_type": "code",
   "execution_count": 52,
   "metadata": {
    "collapsed": true
   },
   "outputs": [],
   "source": [
    "parsed = json.loads(reddit_page.read())"
   ]
  },
  {
   "cell_type": "code",
   "execution_count": 58,
   "metadata": {
    "collapsed": false
   },
   "outputs": [],
   "source": [
    "stories.drop() # Getting rid of anything I had put into this DB before\n",
    "# Now let's put every doc that is a story into the stories collection\n",
    "for item in parsed['data']['children']:\n",
    "    stories.insert_one(item['data'])\n",
    "# Note: I updated this code above after I switched to PyMongo3.0 later\n",
    "# on"
   ]
  },
  {
   "cell_type": "code",
   "execution_count": 54,
   "metadata": {
    "collapsed": false
   },
   "outputs": [
    {
     "data": {
      "text/plain": [
       "{u'_id': ObjectId('551cd76a2032984aeb4c83ac'),\n",
       " u'approved_by': None,\n",
       " u'archived': False,\n",
       " u'author': u'Comcast_AMA',\n",
       " u'author_flair_css_class': u'verified',\n",
       " u'author_flair_text': u'Comcast Corporation',\n",
       " u'banned_by': None,\n",
       " u'clicked': False,\n",
       " u'created': 1427928222.0,\n",
       " u'created_utc': 1427899422.0,\n",
       " u'distinguished': None,\n",
       " u'domain': u'self.technology',\n",
       " u'downs': 0,\n",
       " u'edited': 1427903734.0,\n",
       " u'gilded': 1,\n",
       " u'hidden': False,\n",
       " u'id': u'31288p',\n",
       " u'is_self': True,\n",
       " u'likes': None,\n",
       " u'link_flair_css_class': u'comcast',\n",
       " u'link_flair_text': u'AMA',\n",
       " u'media': None,\n",
       " u'media_embed': {},\n",
       " u'mod_reports': [],\n",
       " u'name': u't3_31288p',\n",
       " u'num_comments': 270,\n",
       " u'num_reports': None,\n",
       " u'over_18': False,\n",
       " u'permalink': u'/r/technology/comments/31288p/hi_reddit_we_are_the_public_relations_department/',\n",
       " u'report_reasons': None,\n",
       " u'saved': False,\n",
       " u'score': 439,\n",
       " u'secure_media': None,\n",
       " u'secure_media_embed': {},\n",
       " u'selftext': u\"Hi reddit,\\n\\nJudging from community response, there is a lot of interest for us to do an AMA here on reddit! \\n\\nAbout our company:\\n\\nIn 1963, Ralph Roberts and his partners, Daniel Aaron and Julian Brodsky, bought American Cable Systems for just $500,000 - we were only a small cable operator at the time. We've grown so much since then, to become the largest broadcasting and cable company in the world by revenue, after we changed to our current name in 1969.\\n\\nWe have a few people on staff who will be responding to this AMA, most of whom with the account /u/Comcast_AMA.\\n\\nHere is a list of them in no particular order:\\n\\n-  /u/Comcast_AMA - DC. David Cohen, [VP](/corporate/about/pressroom/corporateoverview/corporateexecutives/davidcohen.html).\\n\\n-  /u/Comcast_AMA - R. Robert, PR Officer.\\n\\nThanks! We really appreciate your support as we continue to actively develop the best possible platform for our valued customers.\\n\\nP.S. Thanks to the mods for all their help!\",\n",
       " u'selftext_html': u'&lt;!-- SC_OFF --&gt;&lt;div class=\"md\"&gt;&lt;p&gt;Hi reddit,&lt;/p&gt;\\n\\n&lt;p&gt;Judging from community response, there is a lot of interest for us to do an AMA here on reddit! &lt;/p&gt;\\n\\n&lt;p&gt;About our company:&lt;/p&gt;\\n\\n&lt;p&gt;In 1963, Ralph Roberts and his partners, Daniel Aaron and Julian Brodsky, bought American Cable Systems for just $500,000 - we were only a small cable operator at the time. We&amp;#39;ve grown so much since then, to become the largest broadcasting and cable company in the world by revenue, after we changed to our current name in 1969.&lt;/p&gt;\\n\\n&lt;p&gt;We have a few people on staff who will be responding to this AMA, most of whom with the account &lt;a href=\"/u/Comcast_AMA\"&gt;/u/Comcast_AMA&lt;/a&gt;.&lt;/p&gt;\\n\\n&lt;p&gt;Here is a list of them in no particular order:&lt;/p&gt;\\n\\n&lt;ul&gt;\\n&lt;li&gt;&lt;p&gt;&lt;a href=\"/u/Comcast_AMA\"&gt;/u/Comcast_AMA&lt;/a&gt; - DC. David Cohen, &lt;a href=\"/corporate/about/pressroom/corporateoverview/corporateexecutives/davidcohen.html\"&gt;VP&lt;/a&gt;.&lt;/p&gt;&lt;/li&gt;\\n&lt;li&gt;&lt;p&gt;&lt;a href=\"/u/Comcast_AMA\"&gt;/u/Comcast_AMA&lt;/a&gt; - R. Robert, PR Officer.&lt;/p&gt;&lt;/li&gt;\\n&lt;/ul&gt;\\n\\n&lt;p&gt;Thanks! We really appreciate your support as we continue to actively develop the best possible platform for our valued customers.&lt;/p&gt;\\n\\n&lt;p&gt;P.S. Thanks to the mods for all their help!&lt;/p&gt;\\n&lt;/div&gt;&lt;!-- SC_ON --&gt;',\n",
       " u'stickied': True,\n",
       " u'subreddit': u'technology',\n",
       " u'subreddit_id': u't5_2qh16',\n",
       " u'thumbnail': u'',\n",
       " u'title': u'Hi reddit! We are the Public Relations Department of the largest broadcasting and cable company in the world! Ask Us Anything!',\n",
       " u'ups': 439,\n",
       " u'url': u'http://www.reddit.com/r/technology/comments/31288p/hi_reddit_we_are_the_public_relations_department/',\n",
       " u'user_reports': [],\n",
       " u'visited': False}"
      ]
     },
     "execution_count": 54,
     "metadata": {},
     "output_type": "execute_result"
    }
   ],
   "source": [
    "# Let's take a look at the first story\n",
    "stories.find_one()"
   ]
  },
  {
   "cell_type": "markdown",
   "metadata": {
    "collapsed": true
   },
   "source": [
    "# Regexes\n",
    "- Provides Perl-style regular expression matching\n",
    "- For example, the regex can fall between two forward slashes and options can be set by append them directly to the end, after the forward slash, i.e., '/pattern/i' (i being the option for case-insensitivity).\n",
    "- the options can also occur as the value of an $options key and the pattern can also be surrounded by quotation marks instead of the forward slashes."
   ]
  },
  {
   "cell_type": "code",
   "execution_count": 55,
   "metadata": {
    "collapsed": false
   },
   "outputs": [],
   "source": [
    "sys.path.append('pymongo_using_a_regex')\n",
    "import using_regex"
   ]
  },
  {
   "cell_type": "code",
   "execution_count": 56,
   "metadata": {
    "collapsed": true
   },
   "outputs": [],
   "source": [
    "# The module uses a query that has a regex matching \"google\" or \"apple\"\n",
    "# (case-insensitive)\n",
    "query = {'title':{'$regex':'apple|google', '$options':'i'}}\n",
    "projection = {'title':1, '_id':0}"
   ]
  },
  {
   "cell_type": "code",
   "execution_count": 57,
   "metadata": {
    "collapsed": false
   },
   "outputs": [
    {
     "data": {
      "text/plain": [
       "{u'title': u'Google kills 200 ad-injecting Chrome extensions, says many are malware'}"
      ]
     },
     "execution_count": 57,
     "metadata": {},
     "output_type": "execute_result"
    }
   ],
   "source": [
    "# Here's an example result\n",
    "stories.find_one(query, projection)"
   ]
  },
  {
   "cell_type": "code",
   "execution_count": 72,
   "metadata": {
    "collapsed": false
   },
   "outputs": [],
   "source": [
    "# The query can be rewritten Perl-style if that's your thing\n",
    "query = {'title':{'$regex':'/apple|google/i'}}\n",
    "stories.find_one(query, projection)\n",
    "# Actually, it doesn't seem to be working..."
   ]
  },
  {
   "cell_type": "markdown",
   "metadata": {},
   "source": [
    "#Skipping, sorting, and limiting"
   ]
  },
  {
   "cell_type": "markdown",
   "metadata": {},
   "source": [
    "- No matter what order these methods occur in in a program (i.e., x.skip().sort().limit()...), the methods actually get applied to the data in the following order:\n",
    "    1. sort\n",
    "    1. skip\n",
    "    1. limit\n",
    "- This is important because, if you remember, it was mentioned in the lectures creating a cursor object does not actually execute the whole task, it just basically tells the object what will need to be done when all is ready to go. When results are actually requested from the cursor, then and only then does the cursor go to the server and try to do the task you wanted it to do. Thus, sorting, skipping, and limiting will have already been called (and cannot be called thereafter)."
   ]
  },
  {
   "cell_type": "code",
   "execution_count": 73,
   "metadata": {
    "collapsed": false
   },
   "outputs": [
    {
     "name": "stdout",
     "output_type": "stream",
     "text": [
      "find, reporting for duty\n",
      "{u'student_id': 1.0, u'_id': ObjectId('551b80de2de91ca1d62b6f1a'), u'type': u'quiz', u'score': 32.37688068766147}\n"
     ]
    }
   ],
   "source": [
    "sys.path.append('pymongo_sort_skip_and_limit')\n",
    "import using_limit_skip_sort"
   ]
  },
  {
   "cell_type": "code",
   "execution_count": 80,
   "metadata": {
    "collapsed": false
   },
   "outputs": [
    {
     "data": {
      "text/plain": [
       "[{u'_id': ObjectId('551b80de2de91ca1d62b6f1a'),\n",
       "  u'score': 32.37688068766147,\n",
       "  u'student_id': 1.0,\n",
       "  u'type': u'quiz'}]"
      ]
     },
     "execution_count": 80,
     "metadata": {},
     "output_type": "execute_result"
    }
   ],
   "source": [
    "# Let's try to use these methods\n",
    "query = {}\n",
    "cursor = scores.find(query).skip(4)\n",
    "cursor = cursor.limit(1)\n",
    "cursor = cursor.sort([('student_id',pymongo.ASCENDING),\n",
    "                      ('score',pymongo.DESCENDING)])\n",
    "# Notice how the sort() method can take a list of key/direction tuples\n",
    "# (it can also take a single key value as one parameter and a direction\n",
    "# value as the second argument if there's only one key/direction pair\n",
    "# The only two directions are pymongo.ASCENDING and pymongo.DESCENDING\n",
    "list(cursor)"
   ]
  },
  {
   "cell_type": "markdown",
   "metadata": {},
   "source": [
    "- the \"cursor = \" expressions above could have just been rewritten as:\n",
    "```cursor = cursor.sort('student_id',```\n",
    "```                     pymongo.ASCENDING).skip(4).limit(1)```"
   ]
  },
  {
   "cell_type": "markdown",
   "metadata": {},
   "source": [
    "# Quiz #3 (?)"
   ]
  },
  {
   "cell_type": "raw",
   "metadata": {},
   "source": [
    "Supposed you had the following documents in a collection named things.\n",
    "\n",
    "{ \"_id\" : 0, \"value\" : 10 }\n",
    "{ \"_id\" : 2, \"value\" : 5 }\n",
    "{ \"_id\" : 3, \"value\" : 7 }\n",
    "{ \"_id\" : 4, \"value\" : 20 }\n",
    "\n",
    "If you performed the following query in pymongo:\n",
    "\n",
    "cursor = things.find().skip( 3 ).limit( 1 ).sort( 'value', pymongo.DESCENDING )\n",
    "\n",
    "which doc would be returned?\n",
    "\n",
    "- The document with _id=0\n",
    "- The document with _id=2\n",
    "- The document with _id=3\n",
    "- The document with _id=4"
   ]
  },
  {
   "cell_type": "code",
   "execution_count": 79,
   "metadata": {
    "collapsed": true
   },
   "outputs": [],
   "source": [
    "# The answer is the doc with _id=2\n",
    "# First, the docs are sorted in descending order, the doc with value 5\n",
    "# in the last position.\n",
    "# Then, the first 3 docs are skipped.\n",
    "# The resulting docs are limited to one, but in this case the docs only\n",
    "# consisted of one doc, so it's kind of a redundant statement."
   ]
  },
  {
   "cell_type": "markdown",
   "metadata": {},
   "source": [
    "# Note about difference between PyMongo and MongoDB sort() method\n",
    "- the PyMongo method call \"cursor.sort([('student_id',pymongo.ASCENDING), ('score',pymongo.DESCENDING)])\" differs quite a bit from the corresponding MongoDB shell method: \"db.scores.sort({'student_id': 1, 'score': -1})\"\n",
    "- this is a result of the fact that, in Python, dicts are not ordered (unless you use OrderedDict, of course); JSON objects, however, are ordered and, thus, it makes sense to submit a Mongo shell command like the one above since it will know to do the 'student_id'-ascending sort first.\n",
    "- to get around this, PyMongo simply uses a list of tuples to represent the same information."
   ]
  },
  {
   "cell_type": "markdown",
   "metadata": {},
   "source": [
    "# Inserting, updating, deleting"
   ]
  },
  {
   "cell_type": "code",
   "execution_count": 89,
   "metadata": {
    "collapsed": false
   },
   "outputs": [],
   "source": [
    "# Ok, I just figured out that I had installed an earlier version of\n",
    "# PyMongo, which doesn't have all of the functionality described in the\n",
    "# lectures, which directly affected me when I tried to run the\n",
    "# insert_one() method above and could only run insert()."
   ]
  },
  {
   "cell_type": "code",
   "execution_count": 90,
   "metadata": {
    "collapsed": false
   },
   "outputs": [
    {
     "data": {
      "text/plain": [
       "'2.8'"
      ]
     },
     "execution_count": 90,
     "metadata": {},
     "output_type": "execute_result"
    }
   ],
   "source": [
    "pymongo.version"
   ]
  },
  {
   "cell_type": "code",
   "execution_count": 91,
   "metadata": {
    "collapsed": true
   },
   "outputs": [],
   "source": [
    "# I will restart the kernel right now and try to get back on track\n",
    "# with PyMongo3.0"
   ]
  },
  {
   "cell_type": "code",
   "execution_count": 1,
   "metadata": {
    "collapsed": true
   },
   "outputs": [],
   "source": [
    "import pymongo"
   ]
  },
  {
   "cell_type": "code",
   "execution_count": 2,
   "metadata": {
    "collapsed": false
   },
   "outputs": [
    {
     "data": {
      "text/plain": [
       "'3.0rc1.post0'"
      ]
     },
     "execution_count": 2,
     "metadata": {},
     "output_type": "execute_result"
    }
   ],
   "source": [
    "pymongo.version"
   ]
  },
  {
   "cell_type": "code",
   "execution_count": 3,
   "metadata": {
    "collapsed": true
   },
   "outputs": [],
   "source": [
    "# Success!"
   ]
  },
  {
   "cell_type": "code",
   "execution_count": 59,
   "metadata": {
    "collapsed": true
   },
   "outputs": [],
   "source": [
    "# Back to work"
   ]
  },
  {
   "cell_type": "markdown",
   "metadata": {},
   "source": [
    "- insert_one() / insert_many()\n",
    "- update_one() / update_many() / replace_one()\n",
    "- delete_one() / delete_many()"
   ]
  },
  {
   "cell_type": "code",
   "execution_count": 63,
   "metadata": {
    "collapsed": true
   },
   "outputs": [],
   "source": [
    "# So, let's insert some docs with insert_one()\n",
    "connection = pymongo.MongoClient(\"mongodb://localhost\")\n",
    "db=connection.school\n",
    "people = db.people\n",
    "richard ={\"name\":\"Richard Kreuter\", \"company\":\"MongoDB\",\n",
    "          \"interests\":['horses', 'skydiving', 'fencing']}\n",
    "andrew = {\"_id\":\"erlichson\", \"name\":\"Andrew Erlichson\", \"company\":\"MongoDB\",\n",
    "          \"interests\":['running', 'cycling', 'photography']}"
   ]
  },
  {
   "cell_type": "code",
   "execution_count": 64,
   "metadata": {
    "collapsed": false
   },
   "outputs": [
    {
     "data": {
      "text/plain": [
       "<pymongo.results.InsertOneResult at 0x7fb044095b90>"
      ]
     },
     "execution_count": 64,
     "metadata": {},
     "output_type": "execute_result"
    }
   ],
   "source": [
    "people.insert_one(richard)\n",
    "people.insert_one(andrew)"
   ]
  },
  {
   "cell_type": "code",
   "execution_count": 67,
   "metadata": {
    "collapsed": false
   },
   "outputs": [
    {
     "data": {
      "text/plain": [
       "[{u'_id': ObjectId('551cd8a22032984aeb4c83c6'),\n",
       "  u'company': u'MongoDB',\n",
       "  u'interests': [u'horses', u'skydiving', u'fencing'],\n",
       "  u'name': u'Richard Kreuter'}]"
      ]
     },
     "execution_count": 67,
     "metadata": {},
     "output_type": "execute_result"
    }
   ],
   "source": [
    "list(people.find({'name': \"Richard Kreuter\"}))"
   ]
  },
  {
   "cell_type": "markdown",
   "metadata": {},
   "source": [
    "#Quiz #4 - on insert_one()"
   ]
  },
  {
   "cell_type": "raw",
   "metadata": {},
   "source": [
    "Do you expect the second insert below to succeed?\n",
    "\n",
    "# get a handle to the school database\n",
    "db=connection.school\n",
    "people = db.people\n",
    "\n",
    "doc = {\"name\":\"Andrew Erlichson\", \"company\":\"MongoDB\",\n",
    "              \"interests\":['running', 'cycling', 'photography']}\n",
    "\n",
    "try:\n",
    "        people.insert_one(doc)   # first insert\n",
    "        del(doc['_id'])\n",
    "        people.insert_one(doc)   # second insert\n",
    "\n",
    "except Exception as e:\n",
    "        print \"Unexpected error:\", type(e), e\n",
    "\n",
    "- No, because the _id will be a duplicate in the collection.\n",
    "- No, because the del call will delete the entire record in Python.\n",
    "- Yes, because the del call will remove the _id key added by the pymongo driver in the first insert.\n",
    "- Yes, because the Pymongo driver always adds a unique _id field on insert."
   ]
  },
  {
   "cell_type": "code",
   "execution_count": 68,
   "metadata": {
    "collapsed": true
   },
   "outputs": [],
   "source": [
    "# I have to admit, I don't really understand this question.\n",
    "# Looking at doc, I don't see any _id key to delete, so this would\n",
    "# either cause an error or result in no change to doc OR there is\n",
    "# something I'm not getting about this. If, as it seems to be hinted\n",
    "# at, doc -- the actual dict -- gets updated as a result of the\n",
    "# insert_one() call, then one would think that the second insert_one()\n",
    "# call wouldn't do anything since it would recognize that this exact\n",
    "# doc already exists in the collection (exact except for it having no\n",
    "# _id field"
   ]
  },
  {
   "cell_type": "code",
   "execution_count": 69,
   "metadata": {
    "collapsed": true
   },
   "outputs": [],
   "source": [
    "db=connection.school\n",
    "people = db.people"
   ]
  },
  {
   "cell_type": "code",
   "execution_count": 70,
   "metadata": {
    "collapsed": true
   },
   "outputs": [],
   "source": [
    "doc = {\"name\":\"Andrew Erlichson\", \"company\":\"MongoDB\",\n",
    "       \"interests\":['running', 'cycling', 'photography']}"
   ]
  },
  {
   "cell_type": "code",
   "execution_count": 71,
   "metadata": {
    "collapsed": false
   },
   "outputs": [
    {
     "data": {
      "text/plain": [
       "<pymongo.results.InsertOneResult at 0x7fb04403a050>"
      ]
     },
     "execution_count": 71,
     "metadata": {},
     "output_type": "execute_result"
    }
   ],
   "source": [
    "people.insert_one(doc) # first insert"
   ]
  },
  {
   "cell_type": "code",
   "execution_count": 72,
   "metadata": {
    "collapsed": false
   },
   "outputs": [
    {
     "data": {
      "text/plain": [
       "{'_id': ObjectId('551cdc172032984aeb4c83c7'),\n",
       " 'company': 'MongoDB',\n",
       " 'interests': ['running', 'cycling', 'photography'],\n",
       " 'name': 'Andrew Erlichson'}"
      ]
     },
     "execution_count": 72,
     "metadata": {},
     "output_type": "execute_result"
    }
   ],
   "source": [
    "# Let's take a look at doc now that I've run the insert_one method\n",
    "doc"
   ]
  },
  {
   "cell_type": "code",
   "execution_count": 73,
   "metadata": {
    "collapsed": true
   },
   "outputs": [],
   "source": [
    "# OK, so insert_one() does indeed modify the passed-in argument!\n",
    "# Interesting"
   ]
  },
  {
   "cell_type": "code",
   "execution_count": 74,
   "metadata": {
    "collapsed": true
   },
   "outputs": [],
   "source": [
    "del(doc['_id'])"
   ]
  },
  {
   "cell_type": "code",
   "execution_count": 76,
   "metadata": {
    "collapsed": false
   },
   "outputs": [
    {
     "data": {
      "text/plain": [
       "[{u'_id': u'erlichson',\n",
       "  u'company': u'MongoDB',\n",
       "  u'interests': [u'running', u'cycling', u'photography'],\n",
       "  u'name': u'Andrew Erlichson'},\n",
       " {u'_id': ObjectId('551cdc172032984aeb4c83c7'),\n",
       "  u'company': u'MongoDB',\n",
       "  u'interests': [u'running', u'cycling', u'photography'],\n",
       "  u'name': u'Andrew Erlichson'}]"
      ]
     },
     "execution_count": 76,
     "metadata": {},
     "output_type": "execute_result"
    }
   ],
   "source": [
    "# Let's look for the just inserted doc\n",
    "list(people.find({\"name\": \"Andrew Erlichson\"}))"
   ]
  },
  {
   "cell_type": "code",
   "execution_count": 77,
   "metadata": {
    "collapsed": true
   },
   "outputs": [],
   "source": [
    "# So, the just-added doc shows up, but another one shows up too\n",
    "# The first one is actually from earlier when we were inserting an\n",
    "# entry with a custom _id (notice the _id: \"erlichson\", which is\n",
    "# unlike other automatically-generated _id's)"
   ]
  },
  {
   "cell_type": "code",
   "execution_count": 78,
   "metadata": {
    "collapsed": false
   },
   "outputs": [
    {
     "data": {
      "text/plain": [
       "<pymongo.results.InsertOneResult at 0x7fb04403a1e0>"
      ]
     },
     "execution_count": 78,
     "metadata": {},
     "output_type": "execute_result"
    }
   ],
   "source": [
    "# Now, let's see what happens when we execute the same exact\n",
    "# expression\n",
    "# It should not result in an error since there will not be a conflict\n",
    "# in terms of overlapping _id\n",
    "# However, I figured that it would not add yet another entry with the\n",
    "# same content except for the _id, that it would do something smart\n",
    "# But we'll see...\n",
    "people.insert_one(doc) # second insert"
   ]
  },
  {
   "cell_type": "code",
   "execution_count": 79,
   "metadata": {
    "collapsed": false
   },
   "outputs": [
    {
     "data": {
      "text/plain": [
       "[{u'_id': u'erlichson',\n",
       "  u'company': u'MongoDB',\n",
       "  u'interests': [u'running', u'cycling', u'photography'],\n",
       "  u'name': u'Andrew Erlichson'},\n",
       " {u'_id': ObjectId('551cdc172032984aeb4c83c7'),\n",
       "  u'company': u'MongoDB',\n",
       "  u'interests': [u'running', u'cycling', u'photography'],\n",
       "  u'name': u'Andrew Erlichson'},\n",
       " {u'_id': ObjectId('551cdda72032984aeb4c83c8'),\n",
       "  u'company': u'MongoDB',\n",
       "  u'interests': [u'running', u'cycling', u'photography'],\n",
       "  u'name': u'Andrew Erlichson'}]"
      ]
     },
     "execution_count": 79,
     "metadata": {},
     "output_type": "execute_result"
    }
   ],
   "source": [
    "# Let's take another look at \"Andrew Erlichson\"-named docs\n",
    "list(people.find({\"name\": \"Andrew Erlichson\"}))"
   ]
  },
  {
   "cell_type": "code",
   "execution_count": 80,
   "metadata": {
    "collapsed": true
   },
   "outputs": [],
   "source": [
    "# Well, I was wrong! It did add another entry with a different _id."
   ]
  },
  {
   "cell_type": "markdown",
   "metadata": {},
   "source": [
    "#insert_many()\n",
    "- takes 2 arguments\n",
    "- arg1: list of docs to be inserted\n",
    "- arg2: ordered - tells the DB whether you want the docs to be inserted in the order given (ordered is set to True by default, so, if you don't specify its value, it will be True)"
   ]
  },
  {
   "cell_type": "code",
   "execution_count": 81,
   "metadata": {
    "collapsed": true
   },
   "outputs": [],
   "source": [
    "# Let's take a look at using_insert_many.py\n",
    "db=connection.school\n",
    "people = db.people\n",
    "andrew = {\"_id\":\"erlichson\", \"name\":\"Andrew Erlichson\", \"company\":\"MongoDB\",\n",
    "          \"interests\":['running', 'cycling', 'photography']}\n",
    "richard ={\"name\":\"Richard Kreuter\", \"company\":\"MongoDB\",\n",
    "          \"interests\":['horses', 'skydiving', 'fencing']}    \n",
    "people_to_insert = [andrew,richard]"
   ]
  },
  {
   "cell_type": "code",
   "execution_count": 82,
   "metadata": {
    "collapsed": false
   },
   "outputs": [
    {
     "ename": "BulkWriteError",
     "evalue": "batch op errors occurred",
     "output_type": "error",
     "traceback": [
      "\u001b[1;31m---------------------------------------------------------------------------\u001b[0m",
      "\u001b[1;31mBulkWriteError\u001b[0m                            Traceback (most recent call last)",
      "\u001b[1;32m<ipython-input-82-cd347e6fa4be>\u001b[0m in \u001b[0;36m<module>\u001b[1;34m()\u001b[0m\n\u001b[1;32m----> 1\u001b[1;33m \u001b[0mpeople\u001b[0m\u001b[1;33m.\u001b[0m\u001b[0minsert_many\u001b[0m\u001b[1;33m(\u001b[0m\u001b[0mpeople_to_insert\u001b[0m\u001b[1;33m,\u001b[0m \u001b[0mordered\u001b[0m\u001b[1;33m=\u001b[0m\u001b[0mFalse\u001b[0m\u001b[1;33m)\u001b[0m\u001b[1;33m\u001b[0m\u001b[0m\n\u001b[0m",
      "\u001b[1;32m/usr/local/lib/python2.7/dist-packages/pymongo-3.0rc1.post0-py2.7-linux-x86_64.egg/pymongo/collection.pyc\u001b[0m in \u001b[0;36minsert_many\u001b[1;34m(self, documents, ordered)\u001b[0m\n\u001b[0;32m    506\u001b[0m         \u001b[0mblk\u001b[0m \u001b[1;33m=\u001b[0m \u001b[0m_Bulk\u001b[0m\u001b[1;33m(\u001b[0m\u001b[0mself\u001b[0m\u001b[1;33m,\u001b[0m \u001b[0mordered\u001b[0m\u001b[1;33m)\u001b[0m\u001b[1;33m\u001b[0m\u001b[0m\n\u001b[0;32m    507\u001b[0m         \u001b[0mblk\u001b[0m\u001b[1;33m.\u001b[0m\u001b[0mops\u001b[0m \u001b[1;33m=\u001b[0m \u001b[1;33m[\u001b[0m\u001b[0mdoc\u001b[0m \u001b[1;32mfor\u001b[0m \u001b[0mdoc\u001b[0m \u001b[1;32min\u001b[0m \u001b[0mgen\u001b[0m\u001b[1;33m(\u001b[0m\u001b[1;33m)\u001b[0m\u001b[1;33m]\u001b[0m\u001b[1;33m\u001b[0m\u001b[0m\n\u001b[1;32m--> 508\u001b[1;33m         \u001b[0mblk\u001b[0m\u001b[1;33m.\u001b[0m\u001b[0mexecute\u001b[0m\u001b[1;33m(\u001b[0m\u001b[0mself\u001b[0m\u001b[1;33m.\u001b[0m\u001b[0mwrite_concern\u001b[0m\u001b[1;33m.\u001b[0m\u001b[0mdocument\u001b[0m\u001b[1;33m)\u001b[0m\u001b[1;33m\u001b[0m\u001b[0m\n\u001b[0m\u001b[0;32m    509\u001b[0m         \u001b[1;32mreturn\u001b[0m \u001b[0mInsertManyResult\u001b[0m\u001b[1;33m(\u001b[0m\u001b[0minserted_ids\u001b[0m\u001b[1;33m,\u001b[0m \u001b[0mself\u001b[0m\u001b[1;33m.\u001b[0m\u001b[0mwrite_concern\u001b[0m\u001b[1;33m.\u001b[0m\u001b[0macknowledged\u001b[0m\u001b[1;33m)\u001b[0m\u001b[1;33m\u001b[0m\u001b[0m\n\u001b[0;32m    510\u001b[0m \u001b[1;33m\u001b[0m\u001b[0m\n",
      "\u001b[1;32m/usr/local/lib/python2.7/dist-packages/pymongo-3.0rc1.post0-py2.7-linux-x86_64.egg/pymongo/bulk.pyc\u001b[0m in \u001b[0;36mexecute\u001b[1;34m(self, write_concern)\u001b[0m\n\u001b[0;32m    432\u001b[0m                 \u001b[0mself\u001b[0m\u001b[1;33m.\u001b[0m\u001b[0mexecute_no_results\u001b[0m\u001b[1;33m(\u001b[0m\u001b[0msock_info\u001b[0m\u001b[1;33m,\u001b[0m \u001b[0mgenerator\u001b[0m\u001b[1;33m)\u001b[0m\u001b[1;33m\u001b[0m\u001b[0m\n\u001b[0;32m    433\u001b[0m             \u001b[1;32melif\u001b[0m \u001b[0msock_info\u001b[0m\u001b[1;33m.\u001b[0m\u001b[0mmax_wire_version\u001b[0m \u001b[1;33m>\u001b[0m \u001b[1;36m1\u001b[0m\u001b[1;33m:\u001b[0m\u001b[1;33m\u001b[0m\u001b[0m\n\u001b[1;32m--> 434\u001b[1;33m                 \u001b[1;32mreturn\u001b[0m \u001b[0mself\u001b[0m\u001b[1;33m.\u001b[0m\u001b[0mexecute_command\u001b[0m\u001b[1;33m(\u001b[0m\u001b[0msock_info\u001b[0m\u001b[1;33m,\u001b[0m \u001b[0mgenerator\u001b[0m\u001b[1;33m,\u001b[0m \u001b[0mwrite_concern\u001b[0m\u001b[1;33m)\u001b[0m\u001b[1;33m\u001b[0m\u001b[0m\n\u001b[0m\u001b[0;32m    435\u001b[0m             \u001b[1;32melse\u001b[0m\u001b[1;33m:\u001b[0m\u001b[1;33m\u001b[0m\u001b[0m\n\u001b[0;32m    436\u001b[0m                 \u001b[1;32mreturn\u001b[0m \u001b[0mself\u001b[0m\u001b[1;33m.\u001b[0m\u001b[0mexecute_legacy\u001b[0m\u001b[1;33m(\u001b[0m\u001b[0msock_info\u001b[0m\u001b[1;33m,\u001b[0m \u001b[0mgenerator\u001b[0m\u001b[1;33m,\u001b[0m \u001b[0mwrite_concern\u001b[0m\u001b[1;33m)\u001b[0m\u001b[1;33m\u001b[0m\u001b[0m\n",
      "\u001b[1;32m/usr/local/lib/python2.7/dist-packages/pymongo-3.0rc1.post0-py2.7-linux-x86_64.egg/pymongo/bulk.pyc\u001b[0m in \u001b[0;36mexecute_command\u001b[1;34m(self, sock_info, generator, write_concern)\u001b[0m\n\u001b[0;32m    297\u001b[0m                 full_result['writeErrors'].sort(\n\u001b[0;32m    298\u001b[0m                     key=lambda error: error['index'])\n\u001b[1;32m--> 299\u001b[1;33m             \u001b[1;32mraise\u001b[0m \u001b[0mBulkWriteError\u001b[0m\u001b[1;33m(\u001b[0m\u001b[0mfull_result\u001b[0m\u001b[1;33m)\u001b[0m\u001b[1;33m\u001b[0m\u001b[0m\n\u001b[0m\u001b[0;32m    300\u001b[0m         \u001b[1;32mreturn\u001b[0m \u001b[0mfull_result\u001b[0m\u001b[1;33m\u001b[0m\u001b[0m\n\u001b[0;32m    301\u001b[0m \u001b[1;33m\u001b[0m\u001b[0m\n",
      "\u001b[1;31mBulkWriteError\u001b[0m: batch op errors occurred"
     ]
    }
   ],
   "source": [
    "people.insert_many(people_to_insert, ordered=False)"
   ]
  },
  {
   "cell_type": "code",
   "execution_count": 83,
   "metadata": {
    "collapsed": false
   },
   "outputs": [
    {
     "name": "stdout",
     "output_type": "stream",
     "text": [
      "Before the insert_many, here are the people\r\n",
      "{u'_id': ObjectId('551cd8a22032984aeb4c83c6'), u'name': u'Richard Kreuter'}\r\n",
      "{u'_id': u'erlichson', u'name': u'Andrew Erlichson'}\r\n",
      "{u'_id': ObjectId('551cdc172032984aeb4c83c7'), u'name': u'Andrew Erlichson'}\r\n",
      "{u'_id': ObjectId('551cdda72032984aeb4c83c8'), u'name': u'Andrew Erlichson'}\r\n",
      "{u'_id': ObjectId('551ced952032984aeb4c83c9'), u'name': u'Richard Kreuter'}\r\n",
      "insert_many, reporting for duty\r\n",
      "Unexpected error: <class 'pymongo.errors.BulkWriteError'> batch op errors occurred\r\n",
      "\r\n",
      "\r\n",
      "After the insert_many, here are the people\r\n",
      "{u'_id': ObjectId('551cd8a22032984aeb4c83c6'), u'name': u'Richard Kreuter'}\r\n",
      "{u'_id': u'erlichson', u'name': u'Andrew Erlichson'}\r\n",
      "{u'_id': ObjectId('551cdc172032984aeb4c83c7'), u'name': u'Andrew Erlichson'}\r\n",
      "{u'_id': ObjectId('551cdda72032984aeb4c83c8'), u'name': u'Andrew Erlichson'}\r\n",
      "{u'_id': ObjectId('551ced952032984aeb4c83c9'), u'name': u'Richard Kreuter'}\r\n",
      "{u'_id': ObjectId('551cedf42032984c62cbb9d1'), u'name': u'Richard Kreuter'}\r\n"
     ]
    }
   ],
   "source": [
    "# Hmm, well, that's weird\n",
    "# Let's just try to run the script provided\n",
    "! python2.7 pymongo_insert_many/using_insert_many.py"
   ]
  },
  {
   "cell_type": "code",
   "execution_count": 84,
   "metadata": {
    "collapsed": false
   },
   "outputs": [
    {
     "data": {
      "text/plain": [
       "<pymongo.results.InsertManyResult at 0x7fb044095e10>"
      ]
     },
     "execution_count": 84,
     "metadata": {},
     "output_type": "execute_result"
    }
   ],
   "source": [
    "# So, the same error occurred\n",
    "# I wonder if this has anything to do with the fact that \"erlichson\" is\n",
    "# already in the _id field of one of the docs, which can be seen in the\n",
    "# output above\n",
    "# Let's try to insert different docs\n",
    "db=connection.school\n",
    "people = db.people\n",
    "andrew = {\"_id\":\"erlichson2\", \"name\":\"Andrew Erlichson\", \"company\":\"MongoDB\",\n",
    "          \"interests\":['running', 'cycling', 'photography']}\n",
    "richard ={\"name\":\"Richard Kreuter\", \"company\":\"MongoDB\",\n",
    "          \"interests\":['horses', 'skydiving', 'fencing']}    \n",
    "people_to_insert = [andrew,richard]\n",
    "people.insert_many(people_to_insert, ordered=False)"
   ]
  },
  {
   "cell_type": "code",
   "execution_count": 85,
   "metadata": {
    "collapsed": false
   },
   "outputs": [
    {
     "data": {
      "text/plain": [
       "[{u'_id': u'erlichson2',\n",
       "  u'company': u'MongoDB',\n",
       "  u'interests': [u'running', u'cycling', u'photography'],\n",
       "  u'name': u'Andrew Erlichson'}]"
      ]
     },
     "execution_count": 85,
     "metadata": {},
     "output_type": "execute_result"
    }
   ],
   "source": [
    "# Ok, that worked, so let's see what's in the DB\n",
    "list(people.find({'_id': \"erlichson2\"}))"
   ]
  },
  {
   "cell_type": "code",
   "execution_count": 86,
   "metadata": {
    "collapsed": false
   },
   "outputs": [
    {
     "data": {
      "text/plain": [
       "[{u'_id': ObjectId('551cd8a22032984aeb4c83c6'),\n",
       "  u'company': u'MongoDB',\n",
       "  u'interests': [u'horses', u'skydiving', u'fencing'],\n",
       "  u'name': u'Richard Kreuter'},\n",
       " {u'_id': u'erlichson',\n",
       "  u'company': u'MongoDB',\n",
       "  u'interests': [u'running', u'cycling', u'photography'],\n",
       "  u'name': u'Andrew Erlichson'},\n",
       " {u'_id': ObjectId('551cdc172032984aeb4c83c7'),\n",
       "  u'company': u'MongoDB',\n",
       "  u'interests': [u'running', u'cycling', u'photography'],\n",
       "  u'name': u'Andrew Erlichson'},\n",
       " {u'_id': ObjectId('551cdda72032984aeb4c83c8'),\n",
       "  u'company': u'MongoDB',\n",
       "  u'interests': [u'running', u'cycling', u'photography'],\n",
       "  u'name': u'Andrew Erlichson'},\n",
       " {u'_id': ObjectId('551ced952032984aeb4c83c9'),\n",
       "  u'company': u'MongoDB',\n",
       "  u'interests': [u'horses', u'skydiving', u'fencing'],\n",
       "  u'name': u'Richard Kreuter'},\n",
       " {u'_id': ObjectId('551cedf42032984c62cbb9d1'),\n",
       "  u'company': u'MongoDB',\n",
       "  u'interests': [u'horses', u'skydiving', u'fencing'],\n",
       "  u'name': u'Richard Kreuter'},\n",
       " {u'_id': u'erlichson2',\n",
       "  u'company': u'MongoDB',\n",
       "  u'interests': [u'running', u'cycling', u'photography'],\n",
       "  u'name': u'Andrew Erlichson'},\n",
       " {u'_id': ObjectId('551cee9d2032984aeb4c83ca'),\n",
       "  u'company': u'MongoDB',\n",
       "  u'interests': [u'horses', u'skydiving', u'fencing'],\n",
       "  u'name': u'Richard Kreuter'}]"
      ]
     },
     "execution_count": 86,
     "metadata": {},
     "output_type": "execute_result"
    }
   ],
   "source": [
    "# Let's just print out all entries that have company set to MongoDB\n",
    "list(people.find({\"company\": \"MongoDB\"}))"
   ]
  },
  {
   "cell_type": "code",
   "execution_count": 87,
   "metadata": {
    "collapsed": true
   },
   "outputs": [],
   "source": [
    "# There are now 4 entries for Richard Kreuter"
   ]
  },
  {
   "cell_type": "code",
   "execution_count": 88,
   "metadata": {
    "collapsed": false
   },
   "outputs": [
    {
     "ename": "BulkWriteError",
     "evalue": "batch op errors occurred",
     "output_type": "error",
     "traceback": [
      "\u001b[1;31m---------------------------------------------------------------------------\u001b[0m",
      "\u001b[1;31mBulkWriteError\u001b[0m                            Traceback (most recent call last)",
      "\u001b[1;32m<ipython-input-88-048db1a54790>\u001b[0m in \u001b[0;36m<module>\u001b[1;34m()\u001b[0m\n\u001b[0;32m      4\u001b[0m \u001b[1;31m# should not appear in the DB since the first doc fails and that\u001b[0m\u001b[1;33m\u001b[0m\u001b[1;33m\u001b[0m\u001b[0m\n\u001b[0;32m      5\u001b[0m \u001b[1;31m# causes the whole command to fail\u001b[0m\u001b[1;33m\u001b[0m\u001b[1;33m\u001b[0m\u001b[0m\n\u001b[1;32m----> 6\u001b[1;33m \u001b[0mpeople\u001b[0m\u001b[1;33m.\u001b[0m\u001b[0minsert_many\u001b[0m\u001b[1;33m(\u001b[0m\u001b[0mpeople_to_insert\u001b[0m\u001b[1;33m,\u001b[0m \u001b[0mordered\u001b[0m\u001b[1;33m=\u001b[0m\u001b[0mTrue\u001b[0m\u001b[1;33m)\u001b[0m\u001b[1;33m\u001b[0m\u001b[0m\n\u001b[0m\u001b[0;32m      7\u001b[0m \u001b[0mlist\u001b[0m\u001b[1;33m(\u001b[0m\u001b[0mpeople\u001b[0m\u001b[1;33m.\u001b[0m\u001b[0mfind\u001b[0m\u001b[1;33m(\u001b[0m\u001b[1;33m{\u001b[0m\u001b[1;34m\"name\"\u001b[0m\u001b[1;33m:\u001b[0m \u001b[1;34m\"Richard Kreuter\"\u001b[0m\u001b[1;33m}\u001b[0m\u001b[1;33m)\u001b[0m\u001b[1;33m)\u001b[0m\u001b[1;33m\u001b[0m\u001b[0m\n",
      "\u001b[1;32m/usr/local/lib/python2.7/dist-packages/pymongo-3.0rc1.post0-py2.7-linux-x86_64.egg/pymongo/collection.pyc\u001b[0m in \u001b[0;36minsert_many\u001b[1;34m(self, documents, ordered)\u001b[0m\n\u001b[0;32m    506\u001b[0m         \u001b[0mblk\u001b[0m \u001b[1;33m=\u001b[0m \u001b[0m_Bulk\u001b[0m\u001b[1;33m(\u001b[0m\u001b[0mself\u001b[0m\u001b[1;33m,\u001b[0m \u001b[0mordered\u001b[0m\u001b[1;33m)\u001b[0m\u001b[1;33m\u001b[0m\u001b[0m\n\u001b[0;32m    507\u001b[0m         \u001b[0mblk\u001b[0m\u001b[1;33m.\u001b[0m\u001b[0mops\u001b[0m \u001b[1;33m=\u001b[0m \u001b[1;33m[\u001b[0m\u001b[0mdoc\u001b[0m \u001b[1;32mfor\u001b[0m \u001b[0mdoc\u001b[0m \u001b[1;32min\u001b[0m \u001b[0mgen\u001b[0m\u001b[1;33m(\u001b[0m\u001b[1;33m)\u001b[0m\u001b[1;33m]\u001b[0m\u001b[1;33m\u001b[0m\u001b[0m\n\u001b[1;32m--> 508\u001b[1;33m         \u001b[0mblk\u001b[0m\u001b[1;33m.\u001b[0m\u001b[0mexecute\u001b[0m\u001b[1;33m(\u001b[0m\u001b[0mself\u001b[0m\u001b[1;33m.\u001b[0m\u001b[0mwrite_concern\u001b[0m\u001b[1;33m.\u001b[0m\u001b[0mdocument\u001b[0m\u001b[1;33m)\u001b[0m\u001b[1;33m\u001b[0m\u001b[0m\n\u001b[0m\u001b[0;32m    509\u001b[0m         \u001b[1;32mreturn\u001b[0m \u001b[0mInsertManyResult\u001b[0m\u001b[1;33m(\u001b[0m\u001b[0minserted_ids\u001b[0m\u001b[1;33m,\u001b[0m \u001b[0mself\u001b[0m\u001b[1;33m.\u001b[0m\u001b[0mwrite_concern\u001b[0m\u001b[1;33m.\u001b[0m\u001b[0macknowledged\u001b[0m\u001b[1;33m)\u001b[0m\u001b[1;33m\u001b[0m\u001b[0m\n\u001b[0;32m    510\u001b[0m \u001b[1;33m\u001b[0m\u001b[0m\n",
      "\u001b[1;32m/usr/local/lib/python2.7/dist-packages/pymongo-3.0rc1.post0-py2.7-linux-x86_64.egg/pymongo/bulk.pyc\u001b[0m in \u001b[0;36mexecute\u001b[1;34m(self, write_concern)\u001b[0m\n\u001b[0;32m    432\u001b[0m                 \u001b[0mself\u001b[0m\u001b[1;33m.\u001b[0m\u001b[0mexecute_no_results\u001b[0m\u001b[1;33m(\u001b[0m\u001b[0msock_info\u001b[0m\u001b[1;33m,\u001b[0m \u001b[0mgenerator\u001b[0m\u001b[1;33m)\u001b[0m\u001b[1;33m\u001b[0m\u001b[0m\n\u001b[0;32m    433\u001b[0m             \u001b[1;32melif\u001b[0m \u001b[0msock_info\u001b[0m\u001b[1;33m.\u001b[0m\u001b[0mmax_wire_version\u001b[0m \u001b[1;33m>\u001b[0m \u001b[1;36m1\u001b[0m\u001b[1;33m:\u001b[0m\u001b[1;33m\u001b[0m\u001b[0m\n\u001b[1;32m--> 434\u001b[1;33m                 \u001b[1;32mreturn\u001b[0m \u001b[0mself\u001b[0m\u001b[1;33m.\u001b[0m\u001b[0mexecute_command\u001b[0m\u001b[1;33m(\u001b[0m\u001b[0msock_info\u001b[0m\u001b[1;33m,\u001b[0m \u001b[0mgenerator\u001b[0m\u001b[1;33m,\u001b[0m \u001b[0mwrite_concern\u001b[0m\u001b[1;33m)\u001b[0m\u001b[1;33m\u001b[0m\u001b[0m\n\u001b[0m\u001b[0;32m    435\u001b[0m             \u001b[1;32melse\u001b[0m\u001b[1;33m:\u001b[0m\u001b[1;33m\u001b[0m\u001b[0m\n\u001b[0;32m    436\u001b[0m                 \u001b[1;32mreturn\u001b[0m \u001b[0mself\u001b[0m\u001b[1;33m.\u001b[0m\u001b[0mexecute_legacy\u001b[0m\u001b[1;33m(\u001b[0m\u001b[0msock_info\u001b[0m\u001b[1;33m,\u001b[0m \u001b[0mgenerator\u001b[0m\u001b[1;33m,\u001b[0m \u001b[0mwrite_concern\u001b[0m\u001b[1;33m)\u001b[0m\u001b[1;33m\u001b[0m\u001b[0m\n",
      "\u001b[1;32m/usr/local/lib/python2.7/dist-packages/pymongo-3.0rc1.post0-py2.7-linux-x86_64.egg/pymongo/bulk.pyc\u001b[0m in \u001b[0;36mexecute_command\u001b[1;34m(self, sock_info, generator, write_concern)\u001b[0m\n\u001b[0;32m    297\u001b[0m                 full_result['writeErrors'].sort(\n\u001b[0;32m    298\u001b[0m                     key=lambda error: error['index'])\n\u001b[1;32m--> 299\u001b[1;33m             \u001b[1;32mraise\u001b[0m \u001b[0mBulkWriteError\u001b[0m\u001b[1;33m(\u001b[0m\u001b[0mfull_result\u001b[0m\u001b[1;33m)\u001b[0m\u001b[1;33m\u001b[0m\u001b[0m\n\u001b[0m\u001b[0;32m    300\u001b[0m         \u001b[1;32mreturn\u001b[0m \u001b[0mfull_result\u001b[0m\u001b[1;33m\u001b[0m\u001b[0m\n\u001b[0;32m    301\u001b[0m \u001b[1;33m\u001b[0m\u001b[0m\n",
      "\u001b[1;31mBulkWriteError\u001b[0m: batch op errors occurred"
     ]
    }
   ],
   "source": [
    "# If we run the expression again, we will get an error since we know\n",
    "# that there is a doc with _id set to \"erlichson2\"\n",
    "# And since ordered is set to True, another entry for Richard Kreuter\n",
    "# should not appear in the DB since the first doc fails and that\n",
    "# causes the whole command to fail\n",
    "people.insert_many(people_to_insert, ordered=True)"
   ]
  },
  {
   "cell_type": "code",
   "execution_count": 90,
   "metadata": {
    "collapsed": false
   },
   "outputs": [
    {
     "data": {
      "text/plain": [
       "4"
      ]
     },
     "execution_count": 90,
     "metadata": {},
     "output_type": "execute_result"
    }
   ],
   "source": [
    "len(list(people.find({\"name\": \"Richard Kreuter\"})))"
   ]
  },
  {
   "cell_type": "code",
   "execution_count": 91,
   "metadata": {
    "collapsed": true
   },
   "outputs": [],
   "source": [
    "# And there you see that there are only 4 entries for Richard Kreuter"
   ]
  },
  {
   "cell_type": "code",
   "execution_count": 96,
   "metadata": {
    "collapsed": false
   },
   "outputs": [
    {
     "name": "stdout",
     "output_type": "stream",
     "text": [
      "Before the insert_many, here are the people\r\n",
      "{u'_id': ObjectId('551cd8a22032984aeb4c83c6'), u'name': u'Richard Kreuter'}\r\n",
      "{u'_id': u'erlichson', u'name': u'Andrew Erlichson'}\r\n",
      "{u'_id': ObjectId('551cdc172032984aeb4c83c7'), u'name': u'Andrew Erlichson'}\r\n",
      "{u'_id': ObjectId('551cdda72032984aeb4c83c8'), u'name': u'Andrew Erlichson'}\r\n",
      "{u'_id': ObjectId('551ced952032984aeb4c83c9'), u'name': u'Richard Kreuter'}\r\n",
      "{u'_id': ObjectId('551cedf42032984c62cbb9d1'), u'name': u'Richard Kreuter'}\r\n",
      "{u'_id': u'erlichson2', u'name': u'Andrew Erlichson'}\r\n",
      "{u'_id': ObjectId('551cee9d2032984aeb4c83ca'), u'name': u'Richard Kreuter'}\r\n",
      "insert_many, reporting for duty\r\n",
      "Unexpected error: <class 'pymongo.errors.BulkWriteError'> batch op errors occurred\r\n",
      "\r\n",
      "\r\n",
      "After the insert_many, here are the people\r\n",
      "{u'_id': ObjectId('551cd8a22032984aeb4c83c6'), u'name': u'Richard Kreuter'}\r\n",
      "{u'_id': u'erlichson', u'name': u'Andrew Erlichson'}\r\n",
      "{u'_id': ObjectId('551cdc172032984aeb4c83c7'), u'name': u'Andrew Erlichson'}\r\n",
      "{u'_id': ObjectId('551cdda72032984aeb4c83c8'), u'name': u'Andrew Erlichson'}\r\n",
      "{u'_id': ObjectId('551ced952032984aeb4c83c9'), u'name': u'Richard Kreuter'}\r\n",
      "{u'_id': ObjectId('551cedf42032984c62cbb9d1'), u'name': u'Richard Kreuter'}\r\n",
      "{u'_id': u'erlichson2', u'name': u'Andrew Erlichson'}\r\n",
      "{u'_id': ObjectId('551cee9d2032984aeb4c83ca'), u'name': u'Richard Kreuter'}\r\n",
      "{u'_id': ObjectId('551cf2182032984c974a3ccf'), u'name': u'Richard Kreuter'}\r\n"
     ]
    }
   ],
   "source": [
    "! python2.7 pymongo_insert_many/using_insert_many.py"
   ]
  },
  {
   "cell_type": "code",
   "execution_count": 98,
   "metadata": {
    "collapsed": false
   },
   "outputs": [
    {
     "data": {
      "text/plain": [
       "5"
      ]
     },
     "execution_count": 98,
     "metadata": {},
     "output_type": "execute_result"
    }
   ],
   "source": [
    "# But, if we run the script again (which does the same thing but with\n",
    "# ordered set to False), we should see another entry for Richard\n",
    "# Kreuter and we do, as can be seen from the output of the script, even\n",
    "# though there was a BulkWriteError\n",
    "len(list(people.find({\"name\": \"Richard Kreuter\"})))"
   ]
  },
  {
   "cell_type": "markdown",
   "metadata": {},
   "source": [
    "#Quiz #5 - on insert_many"
   ]
  },
  {
   "cell_type": "raw",
   "metadata": {},
   "source": [
    "Suppose you ran the following python program. How many documents would you expect to find in the things collection at the completion of the program, and why?\n",
    "\n",
    "import pymongo\n",
    "import sys\n",
    "\n",
    "# establish a connection to the database\n",
    "connection = pymongo.MongoClient(\"mongodb://localhost\")\n",
    "\n",
    "\n",
    "def insert_many():\n",
    "\n",
    "    # get a handle to the school database\n",
    "    db=connection.test\n",
    "    things = db.things\n",
    "\n",
    "    # empty the collection\n",
    "    things.drop()\n",
    "\n",
    "    # insert some docs\n",
    "\n",
    "    docs = [{'_id':1,'a':1}, \n",
    "            {'_id':2,'b':2},            \n",
    "            {'_id':3,'b':3},            \n",
    "            {'_id':3,'b':4},            \n",
    "            {'_id':4,'b':5}]\n",
    "\n",
    "    try:\n",
    "        things.insert_many(docs)\n",
    "\n",
    "    except Exception as e:\n",
    "        print \"Unexpected error:\", type(e), e\n",
    "\n",
    "insert_many()"
   ]
  },
  {
   "cell_type": "raw",
   "metadata": {},
   "source": [
    "The answer is:\n",
    "Three documents, because ordered=True by default, and the insert will stop at the first failed insert."
   ]
  },
  {
   "cell_type": "code",
   "execution_count": null,
   "metadata": {
    "collapsed": true
   },
   "outputs": [],
   "source": []
  }
 ],
 "metadata": {
  "kernelspec": {
   "display_name": "Python 2",
   "language": "python",
   "name": "python2"
  },
  "language_info": {
   "codemirror_mode": {
    "name": "ipython",
    "version": 2
   },
   "file_extension": ".py",
   "mimetype": "text/x-python",
   "name": "python",
   "nbconvert_exporter": "python",
   "pygments_lexer": "ipython2",
   "version": "2.7.6"
  }
 },
 "nbformat": 4,
 "nbformat_minor": 0
}
