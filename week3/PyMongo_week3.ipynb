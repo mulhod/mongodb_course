{
 "cells": [
  {
   "cell_type": "markdown",
   "metadata": {},
   "source": [
    "#PyMongo Week3 Notebook"
   ]
  },
  {
   "cell_type": "code",
   "execution_count": 1,
   "metadata": {
    "collapsed": true
   },
   "outputs": [],
   "source": [
    "import pymongo\n",
    "import sys\n",
    "import os"
   ]
  },
  {
   "cell_type": "code",
   "execution_count": 2,
   "metadata": {
    "collapsed": false
   },
   "outputs": [
    {
     "data": {
      "text/plain": [
       "'/home/mmulholland/Dropbox/Docs/mongodb/week3'"
      ]
     },
     "execution_count": 2,
     "metadata": {},
     "output_type": "execute_result"
    }
   ],
   "source": [
    "# I'm in the week3 folder, which contains all of the materials\n",
    "# from the given zip file\n",
    "os.getcwd()"
   ]
  },
  {
   "cell_type": "code",
   "execution_count": 3,
   "metadata": {
    "collapsed": true
   },
   "outputs": [],
   "source": [
    "# Now, let's try to do the first homework assignment\n",
    "# Write a program in the language of your choice that will\n",
    "# remove the lowest homework score for each student. Since\n",
    "# there is a single document for each student containing an\n",
    "# array of scores, you will need to update the scores array\n",
    "# and remove the homework."
   ]
  },
  {
   "cell_type": "code",
   "execution_count": 4,
   "metadata": {
    "collapsed": false
   },
   "outputs": [
    {
     "name": "stdout",
     "output_type": "stream",
     "text": [
      "2015-04-16T22:23:05.438-0400\tconnected to: localhost\r\n",
      "2015-04-16T22:23:05.447-0400\timported 200 documents\r\n"
     ]
    },
    {
     "data": {
      "text/plain": [
       "200"
      ]
     },
     "execution_count": 4,
     "metadata": {},
     "output_type": "execute_result"
    }
   ],
   "source": [
    "# establish a connection to the database\n",
    "connection = pymongo.MongoClient(\"mongodb://localhost\")\n",
    "db = connection.school\n",
    "students = db.students\n",
    "# Let's make sure to drop the school.students collection if it exists\n",
    "# and then regenerate it from the students.json file\n",
    "students.drop()\n",
    "! /usr/local/share/mongodb/bin/mongoimport -d school -c students < students.json\n",
    "students.count()"
   ]
  },
  {
   "cell_type": "code",
   "execution_count": 5,
   "metadata": {
    "collapsed": false
   },
   "outputs": [
    {
     "data": {
      "text/plain": [
       "[{u'_id': 0.0,\n",
       "  u'name': u'aimee Zank',\n",
       "  u'scores': [{u'score': 1.463179736705023, u'type': u'exam'},\n",
       "   {u'score': 11.78273309957772, u'type': u'quiz'},\n",
       "   {u'score': 6.676176060654615, u'type': u'homework'},\n",
       "   {u'score': 35.8740349954354, u'type': u'homework'}]},\n",
       " {u'_id': 1.0,\n",
       "  u'name': u'Aurelia Menendez',\n",
       "  u'scores': [{u'score': 60.06045071030959, u'type': u'exam'},\n",
       "   {u'score': 52.79790691903873, u'type': u'quiz'},\n",
       "   {u'score': 71.76133439165544, u'type': u'homework'},\n",
       "   {u'score': 34.85718117893772, u'type': u'homework'}]},\n",
       " {u'_id': 2.0,\n",
       "  u'name': u'Corliss Zuk',\n",
       "  u'scores': [{u'score': 67.03077096065002, u'type': u'exam'},\n",
       "   {u'score': 6.301851677835235, u'type': u'quiz'},\n",
       "   {u'score': 20.18160621941858, u'type': u'homework'},\n",
       "   {u'score': 66.28344683278382, u'type': u'homework'}]},\n",
       " {u'_id': 3.0,\n",
       "  u'name': u'Bao Ziglar',\n",
       "  u'scores': [{u'score': 71.64343899778332, u'type': u'exam'},\n",
       "   {u'score': 24.80221293650313, u'type': u'quiz'},\n",
       "   {u'score': 1.694720653897219, u'type': u'homework'},\n",
       "   {u'score': 42.26147058804812, u'type': u'homework'}]},\n",
       " {u'_id': 4.0,\n",
       "  u'name': u'Zachary Langlais',\n",
       "  u'scores': [{u'score': 78.68385091304332, u'type': u'exam'},\n",
       "   {u'score': 90.2963101368042, u'type': u'quiz'},\n",
       "   {u'score': 34.41620148042529, u'type': u'homework'},\n",
       "   {u'score': 19.21886443577987, u'type': u'homework'}]}]"
      ]
     },
     "execution_count": 5,
     "metadata": {},
     "output_type": "execute_result"
    }
   ],
   "source": [
    "# Let's take a look at some entries to get familiar with the\n",
    "# data\n",
    "list(students.find())[:5]"
   ]
  },
  {
   "cell_type": "code",
   "execution_count": 6,
   "metadata": {
    "collapsed": false
   },
   "outputs": [
    {
     "data": {
      "text/plain": [
       "[{u'_id': 4.0,\n",
       "  u'name': u'Zachary Langlais',\n",
       "  u'scores': [{u'score': 78.68385091304332, u'type': u'exam'},\n",
       "   {u'score': 90.2963101368042, u'type': u'quiz'},\n",
       "   {u'score': 34.41620148042529, u'type': u'homework'},\n",
       "   {u'score': 19.21886443577987, u'type': u'homework'}]},\n",
       " {u'_id': 118.0,\n",
       "  u'name': u'Zachary Langlais',\n",
       "  u'scores': [{u'score': 62.20457822364115, u'type': u'exam'},\n",
       "   {u'score': 61.03733414415722, u'type': u'quiz'},\n",
       "   {u'score': 8.548735651522431, u'type': u'homework'},\n",
       "   {u'score': 82.41688205392703, u'type': u'homework'}]}]"
      ]
     },
     "execution_count": 6,
     "metadata": {},
     "output_type": "execute_result"
    }
   ],
   "source": [
    "# Let's see if we can look in one particular entry's hw\n",
    "# assignments\n",
    "list(students.find({'name': 'Zachary Langlais'}))"
   ]
  },
  {
   "cell_type": "code",
   "execution_count": 7,
   "metadata": {
    "collapsed": false
   },
   "outputs": [],
   "source": [
    "# So, there are apparently multiple entries for at least\n",
    "# some students\n",
    "# Let's work on getting all of the unique names\n",
    "# We can use the find method for this, specifying a \"projection"
   ]
  },
  {
   "cell_type": "code",
   "execution_count": 8,
   "metadata": {
    "collapsed": false
   },
   "outputs": [
    {
     "data": {
      "text/plain": [
       "[{u'_id': 0.0, u'name': u'aimee Zank'},\n",
       " {u'_id': 1.0, u'name': u'Aurelia Menendez'},\n",
       " {u'_id': 2.0, u'name': u'Corliss Zuk'},\n",
       " {u'_id': 3.0, u'name': u'Bao Ziglar'},\n",
       " {u'_id': 4.0, u'name': u'Zachary Langlais'}]"
      ]
     },
     "execution_count": 8,
     "metadata": {},
     "output_type": "execute_result"
    }
   ],
   "source": [
    "names = list((students.find({}, {'name': 1, '_id': 1})))\n",
    "names[:5]"
   ]
  },
  {
   "cell_type": "code",
   "execution_count": 9,
   "metadata": {
    "collapsed": false
   },
   "outputs": [
    {
     "data": {
      "text/plain": [
       "[{u'scores': [{u'score': 78.68385091304332, u'type': u'exam'},\n",
       "   {u'score': 90.2963101368042, u'type': u'quiz'},\n",
       "   {u'score': 34.41620148042529, u'type': u'homework'},\n",
       "   {u'score': 19.21886443577987, u'type': u'homework'}]},\n",
       " {u'scores': [{u'score': 62.20457822364115, u'type': u'exam'},\n",
       "   {u'score': 61.03733414415722, u'type': u'quiz'},\n",
       "   {u'score': 8.548735651522431, u'type': u'homework'},\n",
       "   {u'score': 82.41688205392703, u'type': u'homework'}]}]"
      ]
     },
     "execution_count": 9,
     "metadata": {},
     "output_type": "execute_result"
    }
   ],
   "source": [
    "# So, we will need to iterate over all of the names in 'names' and\n",
    "# get all assignmnent entries that correspond to each document's\n",
    "# 'scores' key\n",
    "# Recall that a student entry's 'scores' key maps to a list of\n",
    "# sub-documents, one for each assignment:\n",
    "list(students.find({'name': 'Zachary Langlais'},\n",
    "                   {'scores': 1, '_id': 0}))"
   ]
  },
  {
   "cell_type": "code",
   "execution_count": 10,
   "metadata": {
    "collapsed": false
   },
   "outputs": [
    {
     "data": {
      "text/plain": [
       "[{'_id': 4.0,\n",
       "  'scores': [{u'score': 78.68385091304332, u'type': u'exam'},\n",
       "   {u'score': 90.2963101368042, u'type': u'quiz'},\n",
       "   {u'score': 34.41620148042529, u'type': u'homework'},\n",
       "   {u'score': 19.21886443577987, u'type': u'homework'}]},\n",
       " {'_id': 118.0,\n",
       "  'scores': [{u'score': 62.20457822364115, u'type': u'exam'},\n",
       "   {u'score': 61.03733414415722, u'type': u'quiz'},\n",
       "   {u'score': 8.548735651522431, u'type': u'homework'},\n",
       "   {u'score': 82.41688205392703, u'type': u'homework'}]}]"
      ]
     },
     "execution_count": 10,
     "metadata": {},
     "output_type": "execute_result"
    }
   ],
   "source": [
    "# So, one we could do it (and there are probably easier ways to\n",
    "# do this (and other stuff I do above) is we could all of the\n",
    "# 'scores' sub-docs, put them in a list and then make a list of\n",
    "# all of the sub-docs' 'score' keys for 'type' equal to 'homework'\n",
    "# We should the original document's _id key value for later use\n",
    "entry_lists = [dict(scores=entry['scores'], _id=entry['_id']) for\n",
    "               entry in list(students.find({'name':\n",
    "                                            'Zachary Langlais'}))]\n",
    "entry_lists"
   ]
  },
  {
   "cell_type": "code",
   "execution_count": 11,
   "metadata": {
    "collapsed": false
   },
   "outputs": [
    {
     "data": {
      "text/plain": [
       "{'_id': 118.0, 'score': 8.548735651522431}"
      ]
     },
     "execution_count": 11,
     "metadata": {},
     "output_type": "execute_result"
    }
   ],
   "source": [
    "# Now, we can iterate over the 'scores' lists and get the one with\n",
    "# the lowest score (and get its corresponding _id since that is\n",
    "# different even if the name is the same)\n",
    "hw_scores = []\n",
    "for entry_list in entry_lists:\n",
    "    for _entry in entry_list['scores']:\n",
    "        if _entry['type'] == 'homework':\n",
    "            hw_scores.append(dict(score=_entry['score'],\n",
    "                                  _id=entry_list['_id']))\n",
    "if hw_scores:\n",
    "    worst_hw_score = sorted(hw_scores, key=lambda x: x['score'])[0]\n",
    "worst_hw_score"
   ]
  },
  {
   "cell_type": "code",
   "execution_count": 12,
   "metadata": {
    "collapsed": false
   },
   "outputs": [
    {
     "data": {
      "text/plain": [
       "[{'_id': 4.0, 'score': 34.41620148042529},\n",
       " {'_id': 4.0, 'score': 19.21886443577987},\n",
       " {'_id': 118.0, 'score': 8.548735651522431},\n",
       " {'_id': 118.0, 'score': 82.41688205392703}]"
      ]
     },
     "execution_count": 12,
     "metadata": {},
     "output_type": "execute_result"
    }
   ],
   "source": [
    "# So, here's the list of HW scores for 'Zachary Langlais'\n",
    "hw_scores"
   ]
  },
  {
   "cell_type": "code",
   "execution_count": 13,
   "metadata": {
    "collapsed": false
   },
   "outputs": [
    {
     "data": {
      "text/plain": [
       "{'_id': 118.0, 'score': 8.548735651522431}"
      ]
     },
     "execution_count": 13,
     "metadata": {},
     "output_type": "execute_result"
    }
   ],
   "source": [
    "# What we would have to do now is use the update_one method,\n",
    "# specifying a student's name and the value of the score to be\n",
    "# dropped from the list corresponding to 'scores'\n",
    "# Here's the worst HW score again\n",
    "worst_hw_score"
   ]
  },
  {
   "cell_type": "code",
   "execution_count": 14,
   "metadata": {
    "collapsed": false
   },
   "outputs": [
    {
     "data": {
      "text/plain": [
       "[{u'_id': 118.0,\n",
       "  u'name': u'Zachary Langlais',\n",
       "  u'scores': [{u'score': 62.20457822364115, u'type': u'exam'},\n",
       "   {u'score': 61.03733414415722, u'type': u'quiz'},\n",
       "   {u'score': 8.548735651522431, u'type': u'homework'},\n",
       "   {u'score': 82.41688205392703, u'type': u'homework'}]}]"
      ]
     },
     "execution_count": 14,
     "metadata": {},
     "output_type": "execute_result"
    }
   ],
   "source": [
    "list(students.find({'name': 'Zachary Langlais',\n",
    "                    '_id': worst_hw_score['_id']}))"
   ]
  },
  {
   "cell_type": "code",
   "execution_count": 15,
   "metadata": {
    "collapsed": false
   },
   "outputs": [
    {
     "data": {
      "text/plain": [
       "{u'_id': 118.0,\n",
       " u'name': u'Zachary Langlais',\n",
       " u'scores': [{u'score': 62.20457822364115, u'type': u'exam'},\n",
       "  {u'score': 61.03733414415722, u'type': u'quiz'},\n",
       "  {u'score': 8.548735651522431, u'type': u'homework'},\n",
       "  {u'score': 82.41688205392703, u'type': u'homework'}]}"
      ]
     },
     "execution_count": 15,
     "metadata": {},
     "output_type": "execute_result"
    }
   ],
   "source": [
    "# Let's get the relevant document and then manually edit its\n",
    "# 'scores' value (in a new list) and then we can use update_one to\n",
    "# substitute the edited 'scores' list back into the doc\n",
    "orig_doc = list(students.find({'name': 'Zachary Langlais',\n",
    "                               '_id': worst_hw_score['_id']}))[0]\n",
    "orig_doc"
   ]
  },
  {
   "cell_type": "code",
   "execution_count": 16,
   "metadata": {
    "collapsed": false
   },
   "outputs": [
    {
     "data": {
      "text/plain": [
       "[{u'score': 62.20457822364115, u'type': u'exam'},\n",
       " {u'score': 61.03733414415722, u'type': u'quiz'},\n",
       " {u'score': 82.41688205392703, u'type': u'homework'}]"
      ]
     },
     "execution_count": 16,
     "metadata": {},
     "output_type": "execute_result"
    }
   ],
   "source": [
    "orig_doc_scores = orig_doc['scores']\n",
    "substitute_doc_scores = list(orig_doc_scores)\n",
    "for score_doc in substitute_doc_scores:\n",
    "    if score_doc == dict(score=worst_hw_score['score'],\n",
    "                         type='homework'):\n",
    "        del substitute_doc_scores[substitute_doc_scores.index(score_doc)]\n",
    "substitute_doc_scores"
   ]
  },
  {
   "cell_type": "code",
   "execution_count": 17,
   "metadata": {
    "collapsed": false
   },
   "outputs": [
    {
     "data": {
      "text/plain": [
       "1"
      ]
     },
     "execution_count": 17,
     "metadata": {},
     "output_type": "execute_result"
    }
   ],
   "source": [
    "result = students.update_one({'name': 'Zachary Langlais',\n",
    "                              '_id': worst_hw_score['_id']},\n",
    "                             {'$set': {'scores': substitute_doc_scores}})\n",
    "result.matched_count"
   ]
  },
  {
   "cell_type": "code",
   "execution_count": 18,
   "metadata": {
    "collapsed": false
   },
   "outputs": [
    {
     "data": {
      "text/plain": [
       "[{u'_id': 118.0,\n",
       "  u'name': u'Zachary Langlais',\n",
       "  u'scores': [{u'score': 62.20457822364115, u'type': u'exam'},\n",
       "   {u'score': 61.03733414415722, u'type': u'quiz'},\n",
       "   {u'score': 82.41688205392703, u'type': u'homework'}]}]"
      ]
     },
     "execution_count": 18,
     "metadata": {},
     "output_type": "execute_result"
    }
   ],
   "source": [
    "# So, it looks like one doc was updated\n",
    "# Let's take a look at the updated doc\n",
    "list(students.find({'name': 'Zachary Langlais',\n",
    "                    '_id': worst_hw_score['_id']}))"
   ]
  },
  {
   "cell_type": "code",
   "execution_count": 19,
   "metadata": {
    "collapsed": true
   },
   "outputs": [],
   "source": [
    "# Great, it looks like the 'homework' with the lowest\n",
    "# score has been dropped!"
   ]
  },
  {
   "cell_type": "code",
   "execution_count": 20,
   "metadata": {
    "collapsed": false
   },
   "outputs": [
    {
     "data": {
      "text/plain": [
       "1"
      ]
     },
     "execution_count": 20,
     "metadata": {},
     "output_type": "execute_result"
    }
   ],
   "source": [
    "# Now, let's put orig_doc_scores back in\n",
    "result = students.update_one({'name': 'Zachary Langlais',\n",
    "                              '_id': worst_hw_score['_id']},\n",
    "                             {'$set': {'scores': orig_doc_scores}})\n",
    "result.matched_count"
   ]
  },
  {
   "cell_type": "code",
   "execution_count": 21,
   "metadata": {
    "collapsed": false
   },
   "outputs": [
    {
     "data": {
      "text/plain": [
       "[{u'_id': 118.0,\n",
       "  u'name': u'Zachary Langlais',\n",
       "  u'scores': [{u'score': 62.20457822364115, u'type': u'exam'},\n",
       "   {u'score': 61.03733414415722, u'type': u'quiz'},\n",
       "   {u'score': 8.548735651522431, u'type': u'homework'},\n",
       "   {u'score': 82.41688205392703, u'type': u'homework'}]}]"
      ]
     },
     "execution_count": 21,
     "metadata": {},
     "output_type": "execute_result"
    }
   ],
   "source": [
    "list(students.find({'name': 'Zachary Langlais',\n",
    "                    '_id': worst_hw_score['_id']}))"
   ]
  },
  {
   "cell_type": "code",
   "execution_count": 22,
   "metadata": {
    "collapsed": true
   },
   "outputs": [],
   "source": [
    "# Now, the entry is back to its original state!"
   ]
  },
  {
   "cell_type": "code",
   "execution_count": 23,
   "metadata": {
    "collapsed": false
   },
   "outputs": [
    {
     "name": "stdout",
     "output_type": "stream",
     "text": [
      "#!/usr/env python2.7\r\n",
      "import pymongo\r\n",
      "import sys\r\n",
      "\r\n",
      "if __name__ == '__main__':\r\n",
      "\r\n",
      "    # establish a connection to the database\r\n",
      "    connection = pymongo.MongoClient(\"mongodb://localhost\")\r\n",
      "    db = connection.school\r\n",
      "    students = db.students\r\n",
      "\r\n",
      "    # Let's get all the unique names first\r\n",
      "    names = list((students.find({}, {'name': 1, '_id': 0})))\r\n",
      "    names = set([name['name'] for name in names])\r\n",
      "\r\n",
      "    # Now, iterate over all names, getting all entries corresponding to each\r\n",
      "    # name and then we can all homeworks\r\n",
      "    for name in names:\r\n",
      "        entry_lists = [dict(scores=entry['scores'], _id=entry['_id']) for\r\n",
      "                       entry in list(students.find({'name': name}))]\r\n",
      "        hw_scores = []\r\n",
      "        for entry_list in entry_lists:\r\n",
      "            for _entry in entry_list['scores']:\r\n",
      "                if _entry['type'] == 'homework':\r\n",
      "                    hw_scores.append(dict(score=_entry['score'],\r\n",
      "                                          _id=entry_list['_id']))\r\n",
      "        if hw_scores:\r\n",
      "            worst_hw_score = sorted(hw_scores,\r\n",
      "                                    key=lambda x: x['score'])[0]\r\n",
      "            orig_doc = students.find_one({'name': name,\r\n",
      "                                          '_id': worst_hw_score['_id']})\r\n",
      "            substitute_doc_scores = orig_doc['scores']\r\n",
      "            for score_doc in substitute_doc_scores:\r\n",
      "                if score_doc == dict(score=worst_hw_score['score'],\r\n",
      "                                     type='homework'):\r\n",
      "                    del substitute_doc_scores[\r\n",
      "                        substitute_doc_scores.index(score_doc)]\r\n",
      "            result = students.update_one({'name': name,\r\n",
      "                                          '_id': worst_hw_score['_id']},\r\n",
      "                                         {'$set': {'scores':\r\n",
      "                                              substitute_doc_scores}})"
     ]
    }
   ],
   "source": [
    "# Ok, now I'll paste in the script I wrote, in which I put all of this\n",
    "# stuff together, and then I'll run it from this session to see what\n",
    "# happens\n",
    "! head -50 homework_3_1/remove_lowest_hw_score_each_student.py"
   ]
  },
  {
   "cell_type": "code",
   "execution_count": 24,
   "metadata": {
    "collapsed": false
   },
   "outputs": [],
   "source": [
    "# Let's try to run it now\n",
    "! python2.7 homework_3_1/remove_lowest_hw_score_each_student.py"
   ]
  },
  {
   "cell_type": "code",
   "execution_count": 25,
   "metadata": {
    "collapsed": false
   },
   "outputs": [
    {
     "data": {
      "text/plain": [
       "[{'_id': 4.0, 'score': 34.41620148042529},\n",
       " {'_id': 4.0, 'score': 19.21886443577987},\n",
       " {'_id': 118.0, 'score': 8.548735651522431},\n",
       " {'_id': 118.0, 'score': 82.41688205392703}]"
      ]
     },
     "execution_count": 25,
     "metadata": {},
     "output_type": "execute_result"
    }
   ],
   "source": [
    "# Now, all students should have had their lowest score dropped\n",
    "# One way we can confirm this is by doing a few queries, so let's try\n",
    "# to look first at Zachary Langlais's HW scores, which we stored in a\n",
    "# variable called hw_scores\n",
    "hw_scores"
   ]
  },
  {
   "cell_type": "code",
   "execution_count": 26,
   "metadata": {
    "collapsed": false
   },
   "outputs": [
    {
     "data": {
      "text/plain": [
       "[{u'_id': 4.0,\n",
       "  u'name': u'Zachary Langlais',\n",
       "  u'scores': [{u'score': 78.68385091304332, u'type': u'exam'},\n",
       "   {u'score': 90.2963101368042, u'type': u'quiz'},\n",
       "   {u'score': 34.41620148042529, u'type': u'homework'},\n",
       "   {u'score': 19.21886443577987, u'type': u'homework'}]},\n",
       " {u'_id': 118.0,\n",
       "  u'name': u'Zachary Langlais',\n",
       "  u'scores': [{u'score': 62.20457822364115, u'type': u'exam'},\n",
       "   {u'score': 61.03733414415722, u'type': u'quiz'},\n",
       "   {u'score': 82.41688205392703, u'type': u'homework'}]}]"
      ]
     },
     "execution_count": 26,
     "metadata": {},
     "output_type": "execute_result"
    }
   ],
   "source": [
    "# Here's the query we would use to see all of Zach's entries, which\n",
    "# shouldn't contain an entry for 'homework' mapped to the lowest score\n",
    "# above, which is 8.5...\n",
    "list(students.find({'name': 'Zachary Langlais'}))"
   ]
  },
  {
   "cell_type": "code",
   "execution_count": 27,
   "metadata": {
    "collapsed": true
   },
   "outputs": [],
   "source": [
    "# And, as you can see, even though there are two separate entries for\n",
    "# the single student, Zachary Langlais, the script was able to find the\n",
    "# lowest HW score across both entries and then drop the lowest one"
   ]
  },
  {
   "cell_type": "code",
   "execution_count": null,
   "metadata": {
    "collapsed": true
   },
   "outputs": [],
   "source": []
  }
 ],
 "metadata": {
  "kernelspec": {
   "display_name": "Python 2",
   "language": "python",
   "name": "python2"
  },
  "language_info": {
   "codemirror_mode": {
    "name": "ipython",
    "version": 2
   },
   "file_extension": ".py",
   "mimetype": "text/x-python",
   "name": "python",
   "nbconvert_exporter": "python",
   "pygments_lexer": "ipython2",
   "version": "2.7.6"
  }
 },
 "nbformat": 4,
 "nbformat_minor": 0
}
