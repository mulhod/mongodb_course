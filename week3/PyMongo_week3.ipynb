{
 "cells": [
  {
   "cell_type": "markdown",
   "metadata": {},
   "source": [
    "#PyMongo Week3 Notebook"
   ]
  },
  {
   "cell_type": "code",
   "execution_count": 31,
   "metadata": {
    "collapsed": true
   },
   "outputs": [],
   "source": [
    "import pymongo\n",
    "import sys\n",
    "import os"
   ]
  },
  {
   "cell_type": "code",
   "execution_count": 32,
   "metadata": {
    "collapsed": false
   },
   "outputs": [
    {
     "data": {
      "text/plain": [
       "'/home/mulhollandm2/mongodb_course/week3'"
      ]
     },
     "execution_count": 32,
     "metadata": {},
     "output_type": "execute_result"
    }
   ],
   "source": [
    "# I'm in the week3 folder, which contains all of the materials\n",
    "# from the given zip file\n",
    "os.getcwd()"
   ]
  },
  {
   "cell_type": "markdown",
   "metadata": {},
   "source": [
    "#Homework #1"
   ]
  },
  {
   "cell_type": "code",
   "execution_count": 33,
   "metadata": {
    "collapsed": true
   },
   "outputs": [],
   "source": [
    "# Now, let's try to do the first homework assignment\n",
    "# Write a program in the language of your choice that will\n",
    "# remove the lowest homework score for each student. Since\n",
    "# there is a single document for each student containing an\n",
    "# array of scores, you will need to update the scores array\n",
    "# and remove the homework."
   ]
  },
  {
   "cell_type": "code",
   "execution_count": 34,
   "metadata": {
    "collapsed": false
   },
   "outputs": [
    {
     "name": "stdout",
     "output_type": "stream",
     "text": [
      "2015-04-19T02:25:41.488-0400\tconnected to: localhost\r\n",
      "2015-04-19T02:25:41.519-0400\timported 200 documents\r\n"
     ]
    },
    {
     "data": {
      "text/plain": [
       "200"
      ]
     },
     "execution_count": 34,
     "metadata": {},
     "output_type": "execute_result"
    }
   ],
   "source": [
    "# establish a connection to the database\n",
    "connection = pymongo.MongoClient(\"mongodb://localhost\")\n",
    "db = connection.school\n",
    "students = db.students\n",
    "# Let's make sure to drop the school.students collection if it exists\n",
    "# and then regenerate it from the students.json file\n",
    "students.drop()\n",
    "! ~/usr/local/share/mongodb/bin/mongoimport -d school -c students < students.json\n",
    "students.count()"
   ]
  },
  {
   "cell_type": "code",
   "execution_count": 35,
   "metadata": {
    "collapsed": false
   },
   "outputs": [
    {
     "data": {
      "text/plain": [
       "[{u'_id': 0.0,\n",
       "  u'name': u'aimee Zank',\n",
       "  u'scores': [{u'score': 1.463179736705023, u'type': u'exam'},\n",
       "   {u'score': 11.78273309957772, u'type': u'quiz'},\n",
       "   {u'score': 6.676176060654615, u'type': u'homework'},\n",
       "   {u'score': 35.8740349954354, u'type': u'homework'}]},\n",
       " {u'_id': 2.0,\n",
       "  u'name': u'Corliss Zuk',\n",
       "  u'scores': [{u'score': 67.03077096065002, u'type': u'exam'},\n",
       "   {u'score': 6.301851677835235, u'type': u'quiz'},\n",
       "   {u'score': 20.18160621941858, u'type': u'homework'},\n",
       "   {u'score': 66.28344683278382, u'type': u'homework'}]},\n",
       " {u'_id': 1.0,\n",
       "  u'name': u'Aurelia Menendez',\n",
       "  u'scores': [{u'score': 60.06045071030959, u'type': u'exam'},\n",
       "   {u'score': 52.79790691903873, u'type': u'quiz'},\n",
       "   {u'score': 71.76133439165544, u'type': u'homework'},\n",
       "   {u'score': 34.85718117893772, u'type': u'homework'}]},\n",
       " {u'_id': 3.0,\n",
       "  u'name': u'Bao Ziglar',\n",
       "  u'scores': [{u'score': 71.64343899778332, u'type': u'exam'},\n",
       "   {u'score': 24.80221293650313, u'type': u'quiz'},\n",
       "   {u'score': 1.694720653897219, u'type': u'homework'},\n",
       "   {u'score': 42.26147058804812, u'type': u'homework'}]},\n",
       " {u'_id': 4.0,\n",
       "  u'name': u'Zachary Langlais',\n",
       "  u'scores': [{u'score': 78.68385091304332, u'type': u'exam'},\n",
       "   {u'score': 90.2963101368042, u'type': u'quiz'},\n",
       "   {u'score': 34.41620148042529, u'type': u'homework'},\n",
       "   {u'score': 19.21886443577987, u'type': u'homework'}]}]"
      ]
     },
     "execution_count": 35,
     "metadata": {},
     "output_type": "execute_result"
    }
   ],
   "source": [
    "# Let's take a look at some entries to get familiar with the\n",
    "# data\n",
    "list(students.find())[:5]"
   ]
  },
  {
   "cell_type": "code",
   "execution_count": 36,
   "metadata": {
    "collapsed": false
   },
   "outputs": [
    {
     "data": {
      "text/plain": [
       "[{u'_id': 4.0,\n",
       "  u'name': u'Zachary Langlais',\n",
       "  u'scores': [{u'score': 78.68385091304332, u'type': u'exam'},\n",
       "   {u'score': 90.2963101368042, u'type': u'quiz'},\n",
       "   {u'score': 34.41620148042529, u'type': u'homework'},\n",
       "   {u'score': 19.21886443577987, u'type': u'homework'}]},\n",
       " {u'_id': 118.0,\n",
       "  u'name': u'Zachary Langlais',\n",
       "  u'scores': [{u'score': 62.20457822364115, u'type': u'exam'},\n",
       "   {u'score': 61.03733414415722, u'type': u'quiz'},\n",
       "   {u'score': 8.548735651522431, u'type': u'homework'},\n",
       "   {u'score': 82.41688205392703, u'type': u'homework'}]}]"
      ]
     },
     "execution_count": 36,
     "metadata": {},
     "output_type": "execute_result"
    }
   ],
   "source": [
    "# Let's see if we can look in one particular entry's hw\n",
    "# assignments\n",
    "list(students.find({'name': 'Zachary Langlais'}))"
   ]
  },
  {
   "cell_type": "code",
   "execution_count": 37,
   "metadata": {
    "collapsed": false
   },
   "outputs": [],
   "source": [
    "# So, there are apparently multiple entries for at least\n",
    "# some students\n",
    "# Let's work on getting all of the unique names\n",
    "# We can use the find method for this, specifying a \"projection"
   ]
  },
  {
   "cell_type": "code",
   "execution_count": 38,
   "metadata": {
    "collapsed": false
   },
   "outputs": [
    {
     "data": {
      "text/plain": [
       "[{u'_id': 0.0, u'name': u'aimee Zank'},\n",
       " {u'_id': 2.0, u'name': u'Corliss Zuk'},\n",
       " {u'_id': 1.0, u'name': u'Aurelia Menendez'},\n",
       " {u'_id': 3.0, u'name': u'Bao Ziglar'},\n",
       " {u'_id': 4.0, u'name': u'Zachary Langlais'}]"
      ]
     },
     "execution_count": 38,
     "metadata": {},
     "output_type": "execute_result"
    }
   ],
   "source": [
    "names = list((students.find({}, {'name': 1, '_id': 1})))\n",
    "names[:5]"
   ]
  },
  {
   "cell_type": "code",
   "execution_count": 39,
   "metadata": {
    "collapsed": false
   },
   "outputs": [
    {
     "data": {
      "text/plain": [
       "[{u'scores': [{u'score': 78.68385091304332, u'type': u'exam'},\n",
       "   {u'score': 90.2963101368042, u'type': u'quiz'},\n",
       "   {u'score': 34.41620148042529, u'type': u'homework'},\n",
       "   {u'score': 19.21886443577987, u'type': u'homework'}]},\n",
       " {u'scores': [{u'score': 62.20457822364115, u'type': u'exam'},\n",
       "   {u'score': 61.03733414415722, u'type': u'quiz'},\n",
       "   {u'score': 8.548735651522431, u'type': u'homework'},\n",
       "   {u'score': 82.41688205392703, u'type': u'homework'}]}]"
      ]
     },
     "execution_count": 39,
     "metadata": {},
     "output_type": "execute_result"
    }
   ],
   "source": [
    "# So, we will need to iterate over all of the names in 'names' and\n",
    "# get all assignmnent entries that correspond to each document's\n",
    "# 'scores' key\n",
    "# Recall that a student entry's 'scores' key maps to a list of\n",
    "# sub-documents, one for each assignment:\n",
    "list(students.find({'name': 'Zachary Langlais'},\n",
    "                   {'scores': 1, '_id': 0}))"
   ]
  },
  {
   "cell_type": "code",
   "execution_count": 40,
   "metadata": {
    "collapsed": false
   },
   "outputs": [
    {
     "data": {
      "text/plain": [
       "[{'_id': 4.0,\n",
       "  'scores': [{u'score': 78.68385091304332, u'type': u'exam'},\n",
       "   {u'score': 90.2963101368042, u'type': u'quiz'},\n",
       "   {u'score': 34.41620148042529, u'type': u'homework'},\n",
       "   {u'score': 19.21886443577987, u'type': u'homework'}]},\n",
       " {'_id': 118.0,\n",
       "  'scores': [{u'score': 62.20457822364115, u'type': u'exam'},\n",
       "   {u'score': 61.03733414415722, u'type': u'quiz'},\n",
       "   {u'score': 8.548735651522431, u'type': u'homework'},\n",
       "   {u'score': 82.41688205392703, u'type': u'homework'}]}]"
      ]
     },
     "execution_count": 40,
     "metadata": {},
     "output_type": "execute_result"
    }
   ],
   "source": [
    "# So, one we could do it (and there are probably easier ways to\n",
    "# do this (and other stuff I do above) is we could all of the\n",
    "# 'scores' sub-docs, put them in a list and then make a list of\n",
    "# all of the sub-docs' 'score' keys for 'type' equal to 'homework'\n",
    "# We should the original document's _id key value for later use\n",
    "entry_lists = [dict(scores=entry['scores'], _id=entry['_id']) for\n",
    "               entry in list(students.find({'name':\n",
    "                                            'Zachary Langlais'}))]\n",
    "entry_lists"
   ]
  },
  {
   "cell_type": "code",
   "execution_count": 41,
   "metadata": {
    "collapsed": false
   },
   "outputs": [
    {
     "data": {
      "text/plain": [
       "{'_id': 118.0, 'score': 8.548735651522431}"
      ]
     },
     "execution_count": 41,
     "metadata": {},
     "output_type": "execute_result"
    }
   ],
   "source": [
    "# Now, we can iterate over the 'scores' lists and get the one with\n",
    "# the lowest score (and get its corresponding _id since that is\n",
    "# different even if the name is the same)\n",
    "hw_scores = []\n",
    "for entry_list in entry_lists:\n",
    "    for _entry in entry_list['scores']:\n",
    "        if _entry['type'] == 'homework':\n",
    "            hw_scores.append(dict(score=_entry['score'],\n",
    "                                  _id=entry_list['_id']))\n",
    "if hw_scores:\n",
    "    worst_hw_score = sorted(hw_scores, key=lambda x: x['score'])[0]\n",
    "worst_hw_score"
   ]
  },
  {
   "cell_type": "code",
   "execution_count": 42,
   "metadata": {
    "collapsed": false
   },
   "outputs": [
    {
     "data": {
      "text/plain": [
       "[{'_id': 4.0, 'score': 34.41620148042529},\n",
       " {'_id': 4.0, 'score': 19.21886443577987},\n",
       " {'_id': 118.0, 'score': 8.548735651522431},\n",
       " {'_id': 118.0, 'score': 82.41688205392703}]"
      ]
     },
     "execution_count": 42,
     "metadata": {},
     "output_type": "execute_result"
    }
   ],
   "source": [
    "# So, here's the list of HW scores for 'Zachary Langlais'\n",
    "hw_scores"
   ]
  },
  {
   "cell_type": "code",
   "execution_count": 43,
   "metadata": {
    "collapsed": false
   },
   "outputs": [
    {
     "data": {
      "text/plain": [
       "{'_id': 118.0, 'score': 8.548735651522431}"
      ]
     },
     "execution_count": 43,
     "metadata": {},
     "output_type": "execute_result"
    }
   ],
   "source": [
    "# What we would have to do now is use the update_one method,\n",
    "# specifying a student's name and the value of the score to be\n",
    "# dropped from the list corresponding to 'scores'\n",
    "# Here's the worst HW score again\n",
    "worst_hw_score"
   ]
  },
  {
   "cell_type": "code",
   "execution_count": 44,
   "metadata": {
    "collapsed": false
   },
   "outputs": [
    {
     "data": {
      "text/plain": [
       "[{u'_id': 118.0,\n",
       "  u'name': u'Zachary Langlais',\n",
       "  u'scores': [{u'score': 62.20457822364115, u'type': u'exam'},\n",
       "   {u'score': 61.03733414415722, u'type': u'quiz'},\n",
       "   {u'score': 8.548735651522431, u'type': u'homework'},\n",
       "   {u'score': 82.41688205392703, u'type': u'homework'}]}]"
      ]
     },
     "execution_count": 44,
     "metadata": {},
     "output_type": "execute_result"
    }
   ],
   "source": [
    "list(students.find({'name': 'Zachary Langlais',\n",
    "                    '_id': worst_hw_score['_id']}))"
   ]
  },
  {
   "cell_type": "code",
   "execution_count": 45,
   "metadata": {
    "collapsed": false
   },
   "outputs": [
    {
     "data": {
      "text/plain": [
       "{u'_id': 118.0,\n",
       " u'name': u'Zachary Langlais',\n",
       " u'scores': [{u'score': 62.20457822364115, u'type': u'exam'},\n",
       "  {u'score': 61.03733414415722, u'type': u'quiz'},\n",
       "  {u'score': 8.548735651522431, u'type': u'homework'},\n",
       "  {u'score': 82.41688205392703, u'type': u'homework'}]}"
      ]
     },
     "execution_count": 45,
     "metadata": {},
     "output_type": "execute_result"
    }
   ],
   "source": [
    "# Let's get the relevant document and then manually edit its\n",
    "# 'scores' value (in a new list) and then we can use update_one to\n",
    "# substitute the edited 'scores' list back into the doc\n",
    "orig_doc = list(students.find({'name': 'Zachary Langlais',\n",
    "                               '_id': worst_hw_score['_id']}))[0]\n",
    "orig_doc"
   ]
  },
  {
   "cell_type": "code",
   "execution_count": 46,
   "metadata": {
    "collapsed": false
   },
   "outputs": [
    {
     "data": {
      "text/plain": [
       "[{u'score': 62.20457822364115, u'type': u'exam'},\n",
       " {u'score': 61.03733414415722, u'type': u'quiz'},\n",
       " {u'score': 82.41688205392703, u'type': u'homework'}]"
      ]
     },
     "execution_count": 46,
     "metadata": {},
     "output_type": "execute_result"
    }
   ],
   "source": [
    "orig_doc_scores = orig_doc['scores']\n",
    "substitute_doc_scores = list(orig_doc_scores)\n",
    "for score_doc in substitute_doc_scores:\n",
    "    if score_doc == dict(score=worst_hw_score['score'],\n",
    "                         type='homework'):\n",
    "        del substitute_doc_scores[substitute_doc_scores.index(score_doc)]\n",
    "substitute_doc_scores"
   ]
  },
  {
   "cell_type": "code",
   "execution_count": 47,
   "metadata": {
    "collapsed": false
   },
   "outputs": [
    {
     "data": {
      "text/plain": [
       "1"
      ]
     },
     "execution_count": 47,
     "metadata": {},
     "output_type": "execute_result"
    }
   ],
   "source": [
    "result = students.update_one({'name': 'Zachary Langlais',\n",
    "                              '_id': worst_hw_score['_id']},\n",
    "                             {'$set': {'scores': substitute_doc_scores}})\n",
    "result.matched_count"
   ]
  },
  {
   "cell_type": "code",
   "execution_count": 48,
   "metadata": {
    "collapsed": false
   },
   "outputs": [
    {
     "data": {
      "text/plain": [
       "[{u'_id': 118.0,\n",
       "  u'name': u'Zachary Langlais',\n",
       "  u'scores': [{u'score': 62.20457822364115, u'type': u'exam'},\n",
       "   {u'score': 61.03733414415722, u'type': u'quiz'},\n",
       "   {u'score': 82.41688205392703, u'type': u'homework'}]}]"
      ]
     },
     "execution_count": 48,
     "metadata": {},
     "output_type": "execute_result"
    }
   ],
   "source": [
    "# So, it looks like one doc was updated\n",
    "# Let's take a look at the updated doc\n",
    "list(students.find({'name': 'Zachary Langlais',\n",
    "                    '_id': worst_hw_score['_id']}))"
   ]
  },
  {
   "cell_type": "code",
   "execution_count": 49,
   "metadata": {
    "collapsed": true
   },
   "outputs": [],
   "source": [
    "# Great, it looks like the 'homework' with the lowest\n",
    "# score has been dropped!"
   ]
  },
  {
   "cell_type": "code",
   "execution_count": 50,
   "metadata": {
    "collapsed": false
   },
   "outputs": [
    {
     "data": {
      "text/plain": [
       "1"
      ]
     },
     "execution_count": 50,
     "metadata": {},
     "output_type": "execute_result"
    }
   ],
   "source": [
    "# Now, let's put orig_doc_scores back in\n",
    "result = students.update_one({'name': 'Zachary Langlais',\n",
    "                              '_id': worst_hw_score['_id']},\n",
    "                             {'$set': {'scores': orig_doc_scores}})\n",
    "result.matched_count"
   ]
  },
  {
   "cell_type": "code",
   "execution_count": 51,
   "metadata": {
    "collapsed": false
   },
   "outputs": [
    {
     "data": {
      "text/plain": [
       "[{u'_id': 118.0,\n",
       "  u'name': u'Zachary Langlais',\n",
       "  u'scores': [{u'score': 62.20457822364115, u'type': u'exam'},\n",
       "   {u'score': 61.03733414415722, u'type': u'quiz'},\n",
       "   {u'score': 8.548735651522431, u'type': u'homework'},\n",
       "   {u'score': 82.41688205392703, u'type': u'homework'}]}]"
      ]
     },
     "execution_count": 51,
     "metadata": {},
     "output_type": "execute_result"
    }
   ],
   "source": [
    "list(students.find({'name': 'Zachary Langlais',\n",
    "                    '_id': worst_hw_score['_id']}))"
   ]
  },
  {
   "cell_type": "code",
   "execution_count": 52,
   "metadata": {
    "collapsed": true
   },
   "outputs": [],
   "source": [
    "# Now, the entry is back to its original state!"
   ]
  },
  {
   "cell_type": "code",
   "execution_count": 53,
   "metadata": {
    "collapsed": false
   },
   "outputs": [
    {
     "name": "stdout",
     "output_type": "stream",
     "text": [
      "#!/usr/env python2.7\r\n",
      "import pymongo\r\n",
      "import sys\r\n",
      "\r\n",
      "if __name__ == '__main__':\r\n",
      "\r\n",
      "    # establish a connection to the database\r\n",
      "    connection = pymongo.MongoClient(\"mongodb://localhost\")\r\n",
      "    db = connection.school\r\n",
      "    students = db.students\r\n",
      "\r\n",
      "    # Let's get all the unique names first\r\n",
      "    names = list((students.find({}, {'name': 1, '_id': 0})))\r\n",
      "    names = set([name['name'] for name in names])\r\n",
      "\r\n",
      "    # Now, iterate over all names, getting all entries corresponding to each\r\n",
      "    # name and then we can all homeworks\r\n",
      "    for name in names:\r\n",
      "        entry_lists = [dict(scores=entry['scores'], _id=entry['_id']) for\r\n",
      "                       entry in list(students.find({'name': name}))]\r\n",
      "        hw_scores = []\r\n",
      "        for entry_list in entry_lists:\r\n",
      "            for _entry in entry_list['scores']:\r\n",
      "                if _entry['type'] == 'homework':\r\n",
      "                    hw_scores.append(dict(score=_entry['score'],\r\n",
      "                                          _id=entry_list['_id']))\r\n",
      "        if hw_scores:\r\n",
      "            worst_hw_score = sorted(hw_scores,\r\n",
      "                                    key=lambda x: x['score'])[0]\r\n",
      "            orig_doc = students.find_one({'name': name,\r\n",
      "                                          '_id': worst_hw_score['_id']})\r\n",
      "            substitute_doc_scores = orig_doc['scores']\r\n",
      "            for score_doc in substitute_doc_scores:\r\n",
      "                if score_doc == dict(score=worst_hw_score['score'],\r\n",
      "                                     type='homework'):\r\n",
      "                    del substitute_doc_scores[\r\n",
      "                        substitute_doc_scores.index(score_doc)]\r\n",
      "            result = students.update_one({'name': name,\r\n",
      "                                          '_id': worst_hw_score['_id']},\r\n",
      "                                         {'$set': {'scores':\r\n",
      "                                              substitute_doc_scores}})"
     ]
    }
   ],
   "source": [
    "# Ok, now I'll paste in the script I wrote, in which I put all of this\n",
    "# stuff together, and then I'll run it from this session to see what\n",
    "# happens\n",
    "! head -50 homework_3_1/remove_lowest_hw_score_each_student.py"
   ]
  },
  {
   "cell_type": "code",
   "execution_count": 54,
   "metadata": {
    "collapsed": false
   },
   "outputs": [],
   "source": [
    "# Let's try to run it now\n",
    "! python2.7 homework_3_1/remove_lowest_hw_score_each_student.py"
   ]
  },
  {
   "cell_type": "code",
   "execution_count": 55,
   "metadata": {
    "collapsed": false
   },
   "outputs": [
    {
     "data": {
      "text/plain": [
       "[{'_id': 4.0, 'score': 34.41620148042529},\n",
       " {'_id': 4.0, 'score': 19.21886443577987},\n",
       " {'_id': 118.0, 'score': 8.548735651522431},\n",
       " {'_id': 118.0, 'score': 82.41688205392703}]"
      ]
     },
     "execution_count": 55,
     "metadata": {},
     "output_type": "execute_result"
    }
   ],
   "source": [
    "# Now, all students should have had their lowest score dropped\n",
    "# One way we can confirm this is by doing a few queries, so let's try\n",
    "# to look first at Zachary Langlais's HW scores, which we stored in a\n",
    "# variable called hw_scores\n",
    "hw_scores"
   ]
  },
  {
   "cell_type": "code",
   "execution_count": 56,
   "metadata": {
    "collapsed": false
   },
   "outputs": [
    {
     "data": {
      "text/plain": [
       "[{u'_id': 4.0,\n",
       "  u'name': u'Zachary Langlais',\n",
       "  u'scores': [{u'score': 78.68385091304332, u'type': u'exam'},\n",
       "   {u'score': 90.2963101368042, u'type': u'quiz'},\n",
       "   {u'score': 34.41620148042529, u'type': u'homework'},\n",
       "   {u'score': 19.21886443577987, u'type': u'homework'}]},\n",
       " {u'_id': 118.0,\n",
       "  u'name': u'Zachary Langlais',\n",
       "  u'scores': [{u'score': 62.20457822364115, u'type': u'exam'},\n",
       "   {u'score': 61.03733414415722, u'type': u'quiz'},\n",
       "   {u'score': 82.41688205392703, u'type': u'homework'}]}]"
      ]
     },
     "execution_count": 56,
     "metadata": {},
     "output_type": "execute_result"
    }
   ],
   "source": [
    "# Here's the query we would use to see all of Zach's entries, which\n",
    "# shouldn't contain an entry for 'homework' mapped to the lowest score\n",
    "# above, which is 8.5...\n",
    "list(students.find({'name': 'Zachary Langlais'}))"
   ]
  },
  {
   "cell_type": "code",
   "execution_count": 57,
   "metadata": {
    "collapsed": true
   },
   "outputs": [],
   "source": [
    "# And, as you can see, even though there are two separate entries for\n",
    "# the single student, Zachary Langlais, the script was able to find the\n",
    "# lowest HW score across both entries and then drop the lowest one"
   ]
  },
  {
   "cell_type": "markdown",
   "metadata": {
    "collapsed": true
   },
   "source": [
    "#Homework #2 and #3"
   ]
  },
  {
   "cell_type": "code",
   "execution_count": 62,
   "metadata": {
    "collapsed": true
   },
   "outputs": [],
   "source": [
    "# This homework involves fixing the blog-related code so that new posts\n",
    "# will be inserted into the blog.posts collection\n",
    "# Currently, if run, the blog will not be able to process new posts: if\n",
    "# a new post is submitted, it will lead to a page that says no post was\n",
    "# found\n",
    "# So, we need to fix the blogPostDAO.py module in the sections marked\n",
    "# XXX"
   ]
  },
  {
   "cell_type": "code",
   "execution_count": 63,
   "metadata": {
    "collapsed": true
   },
   "outputs": [],
   "source": [
    "# The first part is at line 58\n",
    "#        try:\n",
    "#            # XXX HW 3.2 Work Here to insert the post\n",
    "#            print \"Inserting the post\"\n",
    "#        except:\n",
    "#            print \"Error inserting post\"\n",
    "#            print \"Unexpected error:\", sys.exc_info()[0]"
   ]
  },
  {
   "cell_type": "code",
   "execution_count": 67,
   "metadata": {
    "collapsed": true
   },
   "outputs": [],
   "source": [
    "# All we want to do here is do an insert_one method call\n",
    "# Let's add in the following:\n",
    "# self.posts.insert_one(post)"
   ]
  },
  {
   "cell_type": "code",
   "execution_count": 68,
   "metadata": {
    "collapsed": true
   },
   "outputs": [],
   "source": [
    "# The second part is in the get_posts method\n",
    "# We will actually want to get rid of the cursor = [] line because that\n",
    "# is simply a placeholder that is only there to make the code work\n",
    "# before we make changes"
   ]
  },
  {
   "cell_type": "code",
   "execution_count": 71,
   "metadata": {
    "collapsed": true
   },
   "outputs": [],
   "source": [
    "# Let's add in the following line, setting cursor to a find method call\n",
    "# using num_posts (the parameter value that is passed in) with a limit\n",
    "# method call that will be tacked onto the end\n",
    "# cursor = self.posts.find().limit(num_posts)"
   ]
  },
  {
   "cell_type": "code",
   "execution_count": 73,
   "metadata": {
    "collapsed": true
   },
   "outputs": [],
   "source": [
    "# The third part is in the get_post_by_permalink method\n",
    "# We want to set post to the value of a find_one() method call, using\n",
    "# the permalink parameter value as the search pattern\n",
    "# Let's insert the following line:\n",
    "# post = self.posts.find_one({'permalink': permalink})"
   ]
  },
  {
   "cell_type": "code",
   "execution_count": 74,
   "metadata": {
    "collapsed": true
   },
   "outputs": [],
   "source": [
    "# The fourth and final part is in the add_comment() method\n",
    "# Let's first get rid of the last_error = {'n':-1} line since that is\n",
    "# another placeholder only there until we fix the next part"
   ]
  },
  {
   "cell_type": "code",
   "execution_count": 75,
   "metadata": {
    "collapsed": true
   },
   "outputs": [],
   "source": [
    "# Now we will need to find the post identified via the permalink\n",
    "# parameter value and get back only a document with a comments field,\n",
    "# and then append the new comment to the list of original comments, and\n",
    "# then update the post entry's comments field with the new list of\n",
    "# comments\n",
    "# Let's add in the following lines:\n",
    "# We will be using the find_one method\n",
    "#     comments_doc = self.posts.find_one({'permalink': permalink})\n",
    "#     comments = comments_doc['comments']\n",
    "#     comments.append(comment)\n",
    "#     result = self.posts.update_one({'permalink': permalink},\n",
    "#                                    {'$set': {'comments': comments}})\n",
    "# We will also want to replace the return statment, which is supposed to\n",
    "# be returning the number of documents updated (should be one), so let's\n",
    "# replace it by referring to an attribute of the return value of the\n",
    "# update_one method (the attribute is named matched_count)\n",
    "#     return result.matched_count"
   ]
  },
  {
   "cell_type": "code",
   "execution_count": 76,
   "metadata": {
    "collapsed": true
   },
   "outputs": [],
   "source": [
    "# Now, if we run blog.py and sign in, we should be able to create a blog\n",
    "# post and comment on it\n",
    "# I started the blog server via blog.py and then created 3 posts and\n",
    "# commented on the first"
   ]
  },
  {
   "cell_type": "code",
   "execution_count": 77,
   "metadata": {
    "collapsed": true
   },
   "outputs": [],
   "source": [
    "# So, it seems to have worked out!\n",
    "# Let's run the validation script (in a separate terminal) and get the\n",
    "# validation code"
   ]
  },
  {
   "cell_type": "code",
   "execution_count": 78,
   "metadata": {
    "collapsed": true
   },
   "outputs": [],
   "source": [
    "# The output of validate.py confirms that all tests are passing and I was\n",
    "# given the following validation codes:\n",
    "# HW #2: 89jklfsjrlk209jfks2j2ek\n",
    "# HW #3: jk1310vn2lkv0j2kf0jkfs"
   ]
  },
  {
   "cell_type": "markdown",
   "metadata": {},
   "source": [
    "#END"
   ]
  }
 ],
 "metadata": {
  "kernelspec": {
   "display_name": "Python 2",
   "language": "python",
   "name": "python2"
  },
  "language_info": {
   "codemirror_mode": {
    "name": "ipython",
    "version": 2
   },
   "file_extension": ".py",
   "mimetype": "text/x-python",
   "name": "python",
   "nbconvert_exporter": "python",
   "pygments_lexer": "ipython2",
   "version": "2.7.9"
  }
 },
 "nbformat": 4,
 "nbformat_minor": 0
}
