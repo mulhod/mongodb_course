{
 "cells": [
  {
   "cell_type": "markdown",
   "metadata": {},
   "source": [
    "#Homework 4.3"
   ]
  },
  {
   "cell_type": "markdown",
   "metadata": {},
   "source": [
    "- Using the blog.py script to run our blog (and doing a mongoimport of the documents in the posts.json file that is provided), our assignment is to make the following blog pages fast:\n",
    "\n",
    "    - The blog home page\n",
    "    - The page that displays blog posts by tag (http://localhost:8082/tag/whatever)\n",
    "    - The page that displays a blog entry by permalink (http://localhost:8082/post/permalink)"
   ]
  },
  {
   "cell_type": "markdown",
   "metadata": {},
   "source": [
    "- We can make the pages fast by creating indexes for the MongoDB databases that get used by the blog-related code. So, let's try to homepage first."
   ]
  },
  {
   "cell_type": "markdown",
   "metadata": {
    "collapsed": true
   },
   "source": [
    "# Speeding up the homepage"
   ]
  },
  {
   "cell_type": "code",
   "execution_count": 2,
   "metadata": {
    "collapsed": false
   },
   "outputs": [],
   "source": [
    "# Here's the relevant code from blog.py that starts the homepage:\n",
    "# This route is the main page of the blog\n",
    "#@bottle.route('/')\n",
    "#def blog_index():\n",
    "#\n",
    "#    cookie = bottle.request.get_cookie(\"session\")\n",
    "#\n",
    "#    username = sessions.get_username(cookie)\n",
    "#\n",
    "#    # even if there is no logged in user, we can show the blog\n",
    "#    l = posts.get_posts(10)\n",
    "#\n",
    "#    return bottle.template('blog_template', dict(myposts=l, username=username))"
   ]
  },
  {
   "cell_type": "code",
   "execution_count": 3,
   "metadata": {
    "collapsed": true
   },
   "outputs": [],
   "source": [
    "# As you can see, there are two places that probably concern us:\n",
    "#   1) username = sessions.get_username(cookie)\n",
    "#   2) l = posts.get_posts(10)\n",
    "# (the cookie = bottle.request.get_cookie(\"session\") seems to be just\n",
    "# some bottle framework-related code and doesn't concern MongoDB at all)"
   ]
  },
  {
   "cell_type": "code",
   "execution_count": 4,
   "metadata": {
    "collapsed": true
   },
   "outputs": [],
   "source": [
    "# A quick look at blogPostDAO.py and sessionDAO.py confirm that the\n",
    "# get functions are of course looking in those respective collections"
   ]
  },
  {
   "cell_type": "code",
   "execution_count": 5,
   "metadata": {
    "collapsed": true
   },
   "outputs": [],
   "source": [
    "# Let's take a look at the sessions collection first\n",
    "import pymongo\n",
    "connection_string = 'mongodb://localhost:27017'\n",
    "connection = pymongo.MongoClient(connection_string)\n",
    "db = connection.blog"
   ]
  },
  {
   "cell_type": "code",
   "execution_count": 7,
   "metadata": {
    "collapsed": false
   },
   "outputs": [
    {
     "data": {
      "text/plain": [
       "[{u'_id': u'YCcrWrkAtfUYPSLmnsRmULTPuTHsheeg', u'username': u'mulhod'}]"
      ]
     },
     "execution_count": 7,
     "metadata": {},
     "output_type": "execute_result"
    }
   ],
   "source": [
    "list(db.sessions.find().limit(1))"
   ]
  },
  {
   "cell_type": "code",
   "execution_count": 9,
   "metadata": {
    "collapsed": false
   },
   "outputs": [
    {
     "data": {
      "text/plain": [
       "[u'_id_']"
      ]
     },
     "execution_count": 9,
     "metadata": {},
     "output_type": "execute_result"
    }
   ],
   "source": [
    "# In the sessionDAO.py code, the get_username function is called,\n",
    "# which, in turn, calls the get_session function, which runs the\n",
    "# following code:\n",
    "#session = self.sessions.find_one({'_id': session_id})\n",
    "# So, as you can, see it does a search on the '_id' keys\n",
    "# However, we know that _id keys are indexed by default...\n",
    "list(db.sessions.index_information())"
   ]
  },
  {
   "cell_type": "code",
   "execution_count": 10,
   "metadata": {
    "collapsed": true
   },
   "outputs": [],
   "source": [
    "# As you can see, the collection is indeed indexed on _id already,\n",
    "# so there is little we can do to speed up this part"
   ]
  },
  {
   "cell_type": "code",
   "execution_count": 11,
   "metadata": {
    "collapsed": true
   },
   "outputs": [],
   "source": [
    "# However, let's take a look at the get_posts function and what it\n",
    "# does"
   ]
  },
  {
   "cell_type": "code",
   "execution_count": 15,
   "metadata": {
    "collapsed": false
   },
   "outputs": [
    {
     "data": {
      "text/plain": [
       "[u'_id_']"
      ]
     },
     "execution_count": 15,
     "metadata": {},
     "output_type": "execute_result"
    }
   ],
   "source": [
    "# get_posts function in blogPostDAO.py runs the following query:\n",
    "#cursor = self.posts.find().sort('date', direction=-1).limit(num_posts)\n",
    "# It wants to find some recent blog posts that it can put on the main\n",
    "# page, so it looks for all documents and then sorts by the 'date' key\n",
    "# and limits the number of returned docs.\n",
    "# Does this collection have any indexes (other than _id: 1)?\n",
    "list(db.posts.index_information())"
   ]
  },
  {
   "cell_type": "code",
   "execution_count": 16,
   "metadata": {
    "collapsed": true
   },
   "outputs": [],
   "source": [
    "# It appears not.\n",
    "# So, an obvious thing we can do here is make an index on the 'date' key,\n",
    "# sorting in reverse since that is exactly what this code wants (we don't\n",
    "# really need to do it in reverse, actually, but let's do it anyway)"
   ]
  },
  {
   "cell_type": "code",
   "execution_count": 30,
   "metadata": {
    "collapsed": false
   },
   "outputs": [
    {
     "name": "stdout",
     "output_type": "stream",
     "text": [
      "The slowest run took 5.36 times longer than the fastest. This could mean that an intermediate result is being cached \n",
      "100000 loops, best of 3: 15.8 µs per loop\n"
     ]
    }
   ],
   "source": [
    "# Actually, let's first get the timing information for comparison\n",
    "%timeit db.posts.find().sort('date', direction=-1)"
   ]
  },
  {
   "cell_type": "code",
   "execution_count": 31,
   "metadata": {
    "collapsed": false
   },
   "outputs": [
    {
     "data": {
      "text/plain": [
       "u'date_-1'"
      ]
     },
     "execution_count": 31,
     "metadata": {},
     "output_type": "execute_result"
    }
   ],
   "source": [
    "# Now, we create the index and then rerun the query\n",
    "db.posts.create_index([('date', pymongo.DESCENDING)])"
   ]
  },
  {
   "cell_type": "code",
   "execution_count": 33,
   "metadata": {
    "collapsed": false
   },
   "outputs": [
    {
     "name": "stdout",
     "output_type": "stream",
     "text": [
      "The slowest run took 4.75 times longer than the fastest. This could mean that an intermediate result is being cached \n",
      "100000 loops, best of 3: 15.4 µs per loop\n"
     ]
    }
   ],
   "source": [
    "%timeit db.posts.find().sort('date', direction=-1)"
   ]
  },
  {
   "cell_type": "code",
   "execution_count": 34,
   "metadata": {
    "collapsed": true
   },
   "outputs": [],
   "source": [
    "# Well, the differences in execution time (crude, I know!) are\n",
    "# probably not very significant, but maybe this index sped it up a\n",
    "# tad bit"
   ]
  },
  {
   "cell_type": "markdown",
   "metadata": {},
   "source": [
    "#Speeding up the posts by-tag page"
   ]
  },
  {
   "cell_type": "code",
   "execution_count": 35,
   "metadata": {
    "collapsed": true
   },
   "outputs": [],
   "source": [
    "# The posts_by_tag function, which produces this page, also gets\n",
    "# some info from the sessions collection, but, as we've seen,\n",
    "# there's nothing we can do to speed up the retrieval of _id keys"
   ]
  },
  {
   "cell_type": "code",
   "execution_count": 37,
   "metadata": {
    "collapsed": true
   },
   "outputs": [],
   "source": [
    "# Besides that, the code also calls the get_username function,\n",
    "# which we have already tried to speed up.\n",
    "# The only other call it makes is to the get_posts_by_tag method of\n",
    "# the blogPostDAO.py module and here is the relevant line of code:\n",
    "#\n",
    "#cursor = self.posts.find({'tags':tag}).sort('date', direction=-1).limit(num_posts)\n",
    "#"
   ]
  },
  {
   "cell_type": "code",
   "execution_count": 38,
   "metadata": {
    "collapsed": true
   },
   "outputs": [],
   "source": [
    "# So, it looks like we should make an index that uses both the tag\n",
    "# and the date keys"
   ]
  },
  {
   "cell_type": "code",
   "execution_count": 40,
   "metadata": {
    "collapsed": false
   },
   "outputs": [],
   "source": [
    "# Let's first see how long it would take to run a query like that\n",
    "# above without any extra indexes added in."
   ]
  },
  {
   "cell_type": "code",
   "execution_count": 42,
   "metadata": {
    "collapsed": false
   },
   "outputs": [
    {
     "data": {
      "text/plain": [
       "{u'_id': ObjectId('50ab0f8bbcf1bfe2536dc3f9'),\n",
       " u'author': u'machine',\n",
       " u'body': u'Amendment I\\n<p>Congress shall make no law respecting an establishment of religion, or prohibiting the free exercise thereof; or abridging the freedom of speech, or of the press; or the right of the people peaceably to assemble, and to petition the Government for a redress of grievances.\\n<p>\\nAmendment II\\n<p>\\nA well regulated Militia, being necessary to the security of a free State, the right of the people to keep and bear Arms, shall not be infringed.\\n<p>\\nAmendment III\\n<p>\\nNo Soldier shall, in time of peace be quartered in any house, without the consent of the Owner, nor in time of war, but in a manner to be prescribed by law.\\n<p>\\nAmendment IV\\n<p>\\nThe right of the people to be secure in their persons, houses, papers, and effects, against unreasonable searches and seizures, shall not be violated, and no Warrants shall issue, but upon probable cause, supported by Oath or affirmation, and particularly describing the place to be searched, and the persons or things to be seized.\\n<p>\\nAmendment V\\n<p>\\nNo person shall be held to answer for a capital, or otherwise infamous crime, unless on a presentment or indictment of a Grand Jury, except in cases arising in the land or naval forces, or in the Militia, when in actual service in time of War or public danger; nor shall any person be subject for the same offence to be twice put in jeopardy of life or limb; nor shall be compelled in any criminal case to be a witness against himself, nor be deprived of life, liberty, or property, without due process of law; nor shall private property be taken for public use, without just compensation.\\n<p>\\n\\nAmendment VI\\n<p>\\nIn all criminal prosecutions, the accused shall enjoy the right to a speedy and public trial, by an impartial jury of the State and district wherein the crime shall have been committed, which district shall have been previously ascertained by law, and to be informed of the nature and cause of the accusation; to be confronted with the witnesses against him; to have compulsory process for obtaining witnesses in his favor, and to have the Assistance of Counsel for his defence.\\n<p>\\nAmendment VII\\n<p>\\nIn Suits at common law, where the value in controversy shall exceed twenty dollars, the right of trial by jury shall be preserved, and no fact tried by a jury, shall be otherwise re-examined in any Court of the United States, than according to the rules of the common law.\\n<p>\\nAmendment VIII\\n<p>\\nExcessive bail shall not be required, nor excessive fines imposed, nor cruel and unusual punishments inflicted.\\n<p>\\nAmendment IX\\n<p>\\nThe enumeration in the Constitution, of certain rights, shall not be construed to deny or disparage others retained by the people.\\n<p>\\nAmendment X\\n<p>\\nThe powers not delegated to the United States by the Constitution, nor prohibited by it to the States, are reserved to the States respectively, or to the people.\"\\n<p>\\n',\n",
       " u'comments': [{u'author': u'Santiago Dollins',\n",
       "   u'body': u'Lorem ipsum dolor sit amet, consectetur adipisicing elit, sed do eiusmod tempor incididunt ut labore et dolore magna aliqua. Ut enim ad minim veniam, quis nostrud exercitation ullamco laboris nisi ut aliquip ex ea commodo consequat. Duis aute irure dolor in reprehenderit in voluptate velit esse cillum dolore eu fugiat nulla pariatur. Excepteur sint occaecat cupidatat non proident, sunt in culpa qui officia deserunt mollit anim id est laborum',\n",
       "   u'email': u'HvizfYVx@pKvLaagH.com'},\n",
       "  {u'author': u'Jaclyn Morado',\n",
       "   u'body': u'Lorem ipsum dolor sit amet, consectetur adipisicing elit, sed do eiusmod tempor incididunt ut labore et dolore magna aliqua. Ut enim ad minim veniam, quis nostrud exercitation ullamco laboris nisi ut aliquip ex ea commodo consequat. Duis aute irure dolor in reprehenderit in voluptate velit esse cillum dolore eu fugiat nulla pariatur. Excepteur sint occaecat cupidatat non proident, sunt in culpa qui officia deserunt mollit anim id est laborum',\n",
       "   u'email': u'WpOUCpdD@hccdxJvT.com'},\n",
       "  {u'author': u'Houston Valenti',\n",
       "   u'body': u'Lorem ipsum dolor sit amet, consectetur adipisicing elit, sed do eiusmod tempor incididunt ut labore et dolore magna aliqua. Ut enim ad minim veniam, quis nostrud exercitation ullamco laboris nisi ut aliquip ex ea commodo consequat. Duis aute irure dolor in reprehenderit in voluptate velit esse cillum dolore eu fugiat nulla pariatur. Excepteur sint occaecat cupidatat non proident, sunt in culpa qui officia deserunt mollit anim id est laborum',\n",
       "   u'email': u'OgDzHfFN@cWsDtCtx.com'},\n",
       "  {u'author': u'Whitley Fears',\n",
       "   u'body': u'Lorem ipsum dolor sit amet, consectetur adipisicing elit, sed do eiusmod tempor incididunt ut labore et dolore magna aliqua. Ut enim ad minim veniam, quis nostrud exercitation ullamco laboris nisi ut aliquip ex ea commodo consequat. Duis aute irure dolor in reprehenderit in voluptate velit esse cillum dolore eu fugiat nulla pariatur. Excepteur sint occaecat cupidatat non proident, sunt in culpa qui officia deserunt mollit anim id est laborum',\n",
       "   u'email': u'tMNoFYPb@lymMpAyS.com'},\n",
       "  {u'author': u'Leonida Lafond',\n",
       "   u'body': u'Lorem ipsum dolor sit amet, consectetur adipisicing elit, sed do eiusmod tempor incididunt ut labore et dolore magna aliqua. Ut enim ad minim veniam, quis nostrud exercitation ullamco laboris nisi ut aliquip ex ea commodo consequat. Duis aute irure dolor in reprehenderit in voluptate velit esse cillum dolore eu fugiat nulla pariatur. Excepteur sint occaecat cupidatat non proident, sunt in culpa qui officia deserunt mollit anim id est laborum',\n",
       "   u'email': u'bwscIhqw@LydHstlV.com'},\n",
       "  {u'author': u'Milan Mcgavock',\n",
       "   u'body': u'Lorem ipsum dolor sit amet, consectetur adipisicing elit, sed do eiusmod tempor incididunt ut labore et dolore magna aliqua. Ut enim ad minim veniam, quis nostrud exercitation ullamco laboris nisi ut aliquip ex ea commodo consequat. Duis aute irure dolor in reprehenderit in voluptate velit esse cillum dolore eu fugiat nulla pariatur. Excepteur sint occaecat cupidatat non proident, sunt in culpa qui officia deserunt mollit anim id est laborum',\n",
       "   u'email': u'kydyDsRe@reQgprIA.com'},\n",
       "  {u'author': u'Synthia Labelle',\n",
       "   u'body': u'Lorem ipsum dolor sit amet, consectetur adipisicing elit, sed do eiusmod tempor incididunt ut labore et dolore magna aliqua. Ut enim ad minim veniam, quis nostrud exercitation ullamco laboris nisi ut aliquip ex ea commodo consequat. Duis aute irure dolor in reprehenderit in voluptate velit esse cillum dolore eu fugiat nulla pariatur. Excepteur sint occaecat cupidatat non proident, sunt in culpa qui officia deserunt mollit anim id est laborum',\n",
       "   u'email': u'ICvkKRvu@GZGUdQSG.com'},\n",
       "  {u'author': u'Richelle Siemers',\n",
       "   u'body': u'Lorem ipsum dolor sit amet, consectetur adipisicing elit, sed do eiusmod tempor incididunt ut labore et dolore magna aliqua. Ut enim ad minim veniam, quis nostrud exercitation ullamco laboris nisi ut aliquip ex ea commodo consequat. Duis aute irure dolor in reprehenderit in voluptate velit esse cillum dolore eu fugiat nulla pariatur. Excepteur sint occaecat cupidatat non proident, sunt in culpa qui officia deserunt mollit anim id est laborum',\n",
       "   u'email': u'eeiJCydU@mObdcYWM.com'},\n",
       "  {u'author': u'Kaila Deibler',\n",
       "   u'body': u'Lorem ipsum dolor sit amet, consectetur adipisicing elit, sed do eiusmod tempor incididunt ut labore et dolore magna aliqua. Ut enim ad minim veniam, quis nostrud exercitation ullamco laboris nisi ut aliquip ex ea commodo consequat. Duis aute irure dolor in reprehenderit in voluptate velit esse cillum dolore eu fugiat nulla pariatur. Excepteur sint occaecat cupidatat non proident, sunt in culpa qui officia deserunt mollit anim id est laborum',\n",
       "   u'email': u'KXMkFNeP@BIbHDeXQ.com'},\n",
       "  {u'author': u'Elizabet Kleine',\n",
       "   u'body': u'Lorem ipsum dolor sit amet, consectetur adipisicing elit, sed do eiusmod tempor incididunt ut labore et dolore magna aliqua. Ut enim ad minim veniam, quis nostrud exercitation ullamco laboris nisi ut aliquip ex ea commodo consequat. Duis aute irure dolor in reprehenderit in voluptate velit esse cillum dolore eu fugiat nulla pariatur. Excepteur sint occaecat cupidatat non proident, sunt in culpa qui officia deserunt mollit anim id est laborum',\n",
       "   u'email': u'BuHPZUsk@fBRThzIE.com'},\n",
       "  {u'author': u'Nobuko Linzey',\n",
       "   u'body': u'Lorem ipsum dolor sit amet, consectetur adipisicing elit, sed do eiusmod tempor incididunt ut labore et dolore magna aliqua. Ut enim ad minim veniam, quis nostrud exercitation ullamco laboris nisi ut aliquip ex ea commodo consequat. Duis aute irure dolor in reprehenderit in voluptate velit esse cillum dolore eu fugiat nulla pariatur. Excepteur sint occaecat cupidatat non proident, sunt in culpa qui officia deserunt mollit anim id est laborum',\n",
       "   u'email': u'kZmbMhXD@vOMySmxN.com'},\n",
       "  {u'author': u'Joel Rueter',\n",
       "   u'body': u'Lorem ipsum dolor sit amet, consectetur adipisicing elit, sed do eiusmod tempor incididunt ut labore et dolore magna aliqua. Ut enim ad minim veniam, quis nostrud exercitation ullamco laboris nisi ut aliquip ex ea commodo consequat. Duis aute irure dolor in reprehenderit in voluptate velit esse cillum dolore eu fugiat nulla pariatur. Excepteur sint occaecat cupidatat non proident, sunt in culpa qui officia deserunt mollit anim id est laborum',\n",
       "   u'email': u'KYpxQQkw@YlBdQKqQ.com'},\n",
       "  {u'author': u'Flora Duell',\n",
       "   u'body': u'Lorem ipsum dolor sit amet, consectetur adipisicing elit, sed do eiusmod tempor incididunt ut labore et dolore magna aliqua. Ut enim ad minim veniam, quis nostrud exercitation ullamco laboris nisi ut aliquip ex ea commodo consequat. Duis aute irure dolor in reprehenderit in voluptate velit esse cillum dolore eu fugiat nulla pariatur. Excepteur sint occaecat cupidatat non proident, sunt in culpa qui officia deserunt mollit anim id est laborum',\n",
       "   u'email': u'WruHMiRr@cOQywzED.com'},\n",
       "  {u'author': u'Denisha Cast',\n",
       "   u'body': u'Lorem ipsum dolor sit amet, consectetur adipisicing elit, sed do eiusmod tempor incididunt ut labore et dolore magna aliqua. Ut enim ad minim veniam, quis nostrud exercitation ullamco laboris nisi ut aliquip ex ea commodo consequat. Duis aute irure dolor in reprehenderit in voluptate velit esse cillum dolore eu fugiat nulla pariatur. Excepteur sint occaecat cupidatat non proident, sunt in culpa qui officia deserunt mollit anim id est laborum',\n",
       "   u'email': u'KLecYArb@wSnhNnkP.com'},\n",
       "  {u'author': u'Sadie Jernigan',\n",
       "   u'body': u'Lorem ipsum dolor sit amet, consectetur adipisicing elit, sed do eiusmod tempor incididunt ut labore et dolore magna aliqua. Ut enim ad minim veniam, quis nostrud exercitation ullamco laboris nisi ut aliquip ex ea commodo consequat. Duis aute irure dolor in reprehenderit in voluptate velit esse cillum dolore eu fugiat nulla pariatur. Excepteur sint occaecat cupidatat non proident, sunt in culpa qui officia deserunt mollit anim id est laborum',\n",
       "   u'email': u'FYugHLuS@XXbNZVjX.com'},\n",
       "  {u'author': u'Fletcher Mcconnell',\n",
       "   u'body': u'Lorem ipsum dolor sit amet, consectetur adipisicing elit, sed do eiusmod tempor incididunt ut labore et dolore magna aliqua. Ut enim ad minim veniam, quis nostrud exercitation ullamco laboris nisi ut aliquip ex ea commodo consequat. Duis aute irure dolor in reprehenderit in voluptate velit esse cillum dolore eu fugiat nulla pariatur. Excepteur sint occaecat cupidatat non proident, sunt in culpa qui officia deserunt mollit anim id est laborum',\n",
       "   u'email': u'VOJQdRyx@CAPyswJx.com'},\n",
       "  {u'author': u'Maren Scheider',\n",
       "   u'body': u'Lorem ipsum dolor sit amet, consectetur adipisicing elit, sed do eiusmod tempor incididunt ut labore et dolore magna aliqua. Ut enim ad minim veniam, quis nostrud exercitation ullamco laboris nisi ut aliquip ex ea commodo consequat. Duis aute irure dolor in reprehenderit in voluptate velit esse cillum dolore eu fugiat nulla pariatur. Excepteur sint occaecat cupidatat non proident, sunt in culpa qui officia deserunt mollit anim id est laborum',\n",
       "   u'email': u'pjkBNRSp@TvAkOyjN.com'},\n",
       "  {u'author': u'Dodie Staller',\n",
       "   u'body': u'Lorem ipsum dolor sit amet, consectetur adipisicing elit, sed do eiusmod tempor incididunt ut labore et dolore magna aliqua. Ut enim ad minim veniam, quis nostrud exercitation ullamco laboris nisi ut aliquip ex ea commodo consequat. Duis aute irure dolor in reprehenderit in voluptate velit esse cillum dolore eu fugiat nulla pariatur. Excepteur sint occaecat cupidatat non proident, sunt in culpa qui officia deserunt mollit anim id est laborum',\n",
       "   u'email': u'eCrxJCRO@yOflDQyk.com'},\n",
       "  {u'author': u'Elizabet Kleine',\n",
       "   u'body': u'Lorem ipsum dolor sit amet, consectetur adipisicing elit, sed do eiusmod tempor incididunt ut labore et dolore magna aliqua. Ut enim ad minim veniam, quis nostrud exercitation ullamco laboris nisi ut aliquip ex ea commodo consequat. Duis aute irure dolor in reprehenderit in voluptate velit esse cillum dolore eu fugiat nulla pariatur. Excepteur sint occaecat cupidatat non proident, sunt in culpa qui officia deserunt mollit anim id est laborum',\n",
       "   u'email': u'fuvRNPmo@YAiuotkp.com'},\n",
       "  {u'author': u'Tandra Meadows',\n",
       "   u'body': u'Lorem ipsum dolor sit amet, consectetur adipisicing elit, sed do eiusmod tempor incididunt ut labore et dolore magna aliqua. Ut enim ad minim veniam, quis nostrud exercitation ullamco laboris nisi ut aliquip ex ea commodo consequat. Duis aute irure dolor in reprehenderit in voluptate velit esse cillum dolore eu fugiat nulla pariatur. Excepteur sint occaecat cupidatat non proident, sunt in culpa qui officia deserunt mollit anim id est laborum',\n",
       "   u'email': u'vEJdGOyu@nOTmFBYj.com'},\n",
       "  {u'author': u'Margart Vitello',\n",
       "   u'body': u'Lorem ipsum dolor sit amet, consectetur adipisicing elit, sed do eiusmod tempor incididunt ut labore et dolore magna aliqua. Ut enim ad minim veniam, quis nostrud exercitation ullamco laboris nisi ut aliquip ex ea commodo consequat. Duis aute irure dolor in reprehenderit in voluptate velit esse cillum dolore eu fugiat nulla pariatur. Excepteur sint occaecat cupidatat non proident, sunt in culpa qui officia deserunt mollit anim id est laborum',\n",
       "   u'email': u'hsOwefpu@GzYZEKGB.com'},\n",
       "  {u'author': u'Ta Sikorski',\n",
       "   u'body': u'Lorem ipsum dolor sit amet, consectetur adipisicing elit, sed do eiusmod tempor incididunt ut labore et dolore magna aliqua. Ut enim ad minim veniam, quis nostrud exercitation ullamco laboris nisi ut aliquip ex ea commodo consequat. Duis aute irure dolor in reprehenderit in voluptate velit esse cillum dolore eu fugiat nulla pariatur. Excepteur sint occaecat cupidatat non proident, sunt in culpa qui officia deserunt mollit anim id est laborum',\n",
       "   u'email': u'CWPSlARg@rQmpVpRZ.com'},\n",
       "  {u'author': u'Wilburn Spiess',\n",
       "   u'body': u'Lorem ipsum dolor sit amet, consectetur adipisicing elit, sed do eiusmod tempor incididunt ut labore et dolore magna aliqua. Ut enim ad minim veniam, quis nostrud exercitation ullamco laboris nisi ut aliquip ex ea commodo consequat. Duis aute irure dolor in reprehenderit in voluptate velit esse cillum dolore eu fugiat nulla pariatur. Excepteur sint occaecat cupidatat non proident, sunt in culpa qui officia deserunt mollit anim id est laborum',\n",
       "   u'email': u'jjcNrFOO@zyyLxVTv.com'},\n",
       "  {u'author': u'Milan Mcgavock',\n",
       "   u'body': u'Lorem ipsum dolor sit amet, consectetur adipisicing elit, sed do eiusmod tempor incididunt ut labore et dolore magna aliqua. Ut enim ad minim veniam, quis nostrud exercitation ullamco laboris nisi ut aliquip ex ea commodo consequat. Duis aute irure dolor in reprehenderit in voluptate velit esse cillum dolore eu fugiat nulla pariatur. Excepteur sint occaecat cupidatat non proident, sunt in culpa qui officia deserunt mollit anim id est laborum',\n",
       "   u'email': u'YrsQELGo@qSKipEkt.com'},\n",
       "  {u'author': u'Terica Brugger',\n",
       "   u'body': u'Lorem ipsum dolor sit amet, consectetur adipisicing elit, sed do eiusmod tempor incididunt ut labore et dolore magna aliqua. Ut enim ad minim veniam, quis nostrud exercitation ullamco laboris nisi ut aliquip ex ea commodo consequat. Duis aute irure dolor in reprehenderit in voluptate velit esse cillum dolore eu fugiat nulla pariatur. Excepteur sint occaecat cupidatat non proident, sunt in culpa qui officia deserunt mollit anim id est laborum',\n",
       "   u'email': u'CYVTChgz@SULZXoSX.com'},\n",
       "  {u'author': u'aimee Zank',\n",
       "   u'body': u'Lorem ipsum dolor sit amet, consectetur adipisicing elit, sed do eiusmod tempor incididunt ut labore et dolore magna aliqua. Ut enim ad minim veniam, quis nostrud exercitation ullamco laboris nisi ut aliquip ex ea commodo consequat. Duis aute irure dolor in reprehenderit in voluptate velit esse cillum dolore eu fugiat nulla pariatur. Excepteur sint occaecat cupidatat non proident, sunt in culpa qui officia deserunt mollit anim id est laborum',\n",
       "   u'email': u'mOLYneqa@jGEQUTxZ.com'},\n",
       "  {u'author': u'aimee Zank',\n",
       "   u'body': u'Lorem ipsum dolor sit amet, consectetur adipisicing elit, sed do eiusmod tempor incididunt ut labore et dolore magna aliqua. Ut enim ad minim veniam, quis nostrud exercitation ullamco laboris nisi ut aliquip ex ea commodo consequat. Duis aute irure dolor in reprehenderit in voluptate velit esse cillum dolore eu fugiat nulla pariatur. Excepteur sint occaecat cupidatat non proident, sunt in culpa qui officia deserunt mollit anim id est laborum',\n",
       "   u'email': u'IvLujfVS@yYbXhdDx.com'},\n",
       "  {u'author': u'Keesha Papadopoulos',\n",
       "   u'body': u'Lorem ipsum dolor sit amet, consectetur adipisicing elit, sed do eiusmod tempor incididunt ut labore et dolore magna aliqua. Ut enim ad minim veniam, quis nostrud exercitation ullamco laboris nisi ut aliquip ex ea commodo consequat. Duis aute irure dolor in reprehenderit in voluptate velit esse cillum dolore eu fugiat nulla pariatur. Excepteur sint occaecat cupidatat non proident, sunt in culpa qui officia deserunt mollit anim id est laborum',\n",
       "   u'email': u'tfPgnzex@jQOghWzu.com'},\n",
       "  {u'author': u'Eugene Magdaleno',\n",
       "   u'body': u'Lorem ipsum dolor sit amet, consectetur adipisicing elit, sed do eiusmod tempor incididunt ut labore et dolore magna aliqua. Ut enim ad minim veniam, quis nostrud exercitation ullamco laboris nisi ut aliquip ex ea commodo consequat. Duis aute irure dolor in reprehenderit in voluptate velit esse cillum dolore eu fugiat nulla pariatur. Excepteur sint occaecat cupidatat non proident, sunt in culpa qui officia deserunt mollit anim id est laborum',\n",
       "   u'email': u'KcvlCEAn@xLjblHKl.com'},\n",
       "  {u'author': u'Kurtis Jiles',\n",
       "   u'body': u'Lorem ipsum dolor sit amet, consectetur adipisicing elit, sed do eiusmod tempor incididunt ut labore et dolore magna aliqua. Ut enim ad minim veniam, quis nostrud exercitation ullamco laboris nisi ut aliquip ex ea commodo consequat. Duis aute irure dolor in reprehenderit in voluptate velit esse cillum dolore eu fugiat nulla pariatur. Excepteur sint occaecat cupidatat non proident, sunt in culpa qui officia deserunt mollit anim id est laborum',\n",
       "   u'email': u'jWIjPUDX@lLRLnaZq.com'},\n",
       "  {u'author': u'Kaila Deibler',\n",
       "   u'body': u'Lorem ipsum dolor sit amet, consectetur adipisicing elit, sed do eiusmod tempor incididunt ut labore et dolore magna aliqua. Ut enim ad minim veniam, quis nostrud exercitation ullamco laboris nisi ut aliquip ex ea commodo consequat. Duis aute irure dolor in reprehenderit in voluptate velit esse cillum dolore eu fugiat nulla pariatur. Excepteur sint occaecat cupidatat non proident, sunt in culpa qui officia deserunt mollit anim id est laborum',\n",
       "   u'email': u'aQSegtPN@bYzZwnXh.com'},\n",
       "  {u'author': u'Cassi Heal',\n",
       "   u'body': u'Lorem ipsum dolor sit amet, consectetur adipisicing elit, sed do eiusmod tempor incididunt ut labore et dolore magna aliqua. Ut enim ad minim veniam, quis nostrud exercitation ullamco laboris nisi ut aliquip ex ea commodo consequat. Duis aute irure dolor in reprehenderit in voluptate velit esse cillum dolore eu fugiat nulla pariatur. Excepteur sint occaecat cupidatat non proident, sunt in culpa qui officia deserunt mollit anim id est laborum',\n",
       "   u'email': u'qQehwVFY@DWNbqFNo.com'},\n",
       "  {u'author': u'Rudolph Domingo',\n",
       "   u'body': u'Lorem ipsum dolor sit amet, consectetur adipisicing elit, sed do eiusmod tempor incididunt ut labore et dolore magna aliqua. Ut enim ad minim veniam, quis nostrud exercitation ullamco laboris nisi ut aliquip ex ea commodo consequat. Duis aute irure dolor in reprehenderit in voluptate velit esse cillum dolore eu fugiat nulla pariatur. Excepteur sint occaecat cupidatat non proident, sunt in culpa qui officia deserunt mollit anim id est laborum',\n",
       "   u'email': u'ippFpNTm@NRQFKbtV.com'},\n",
       "  {u'author': u'Santiago Dollins',\n",
       "   u'body': u'Lorem ipsum dolor sit amet, consectetur adipisicing elit, sed do eiusmod tempor incididunt ut labore et dolore magna aliqua. Ut enim ad minim veniam, quis nostrud exercitation ullamco laboris nisi ut aliquip ex ea commodo consequat. Duis aute irure dolor in reprehenderit in voluptate velit esse cillum dolore eu fugiat nulla pariatur. Excepteur sint occaecat cupidatat non proident, sunt in culpa qui officia deserunt mollit anim id est laborum',\n",
       "   u'email': u'ruedlQnW@nQhXTPwO.com'},\n",
       "  {u'author': u'Leola Lundin',\n",
       "   u'body': u'Lorem ipsum dolor sit amet, consectetur adipisicing elit, sed do eiusmod tempor incididunt ut labore et dolore magna aliqua. Ut enim ad minim veniam, quis nostrud exercitation ullamco laboris nisi ut aliquip ex ea commodo consequat. Duis aute irure dolor in reprehenderit in voluptate velit esse cillum dolore eu fugiat nulla pariatur. Excepteur sint occaecat cupidatat non proident, sunt in culpa qui officia deserunt mollit anim id est laborum',\n",
       "   u'email': u'larAXmEa@GNDZKIzL.com'},\n",
       "  {u'author': u'Shin Allbright',\n",
       "   u'body': u'Lorem ipsum dolor sit amet, consectetur adipisicing elit, sed do eiusmod tempor incididunt ut labore et dolore magna aliqua. Ut enim ad minim veniam, quis nostrud exercitation ullamco laboris nisi ut aliquip ex ea commodo consequat. Duis aute irure dolor in reprehenderit in voluptate velit esse cillum dolore eu fugiat nulla pariatur. Excepteur sint occaecat cupidatat non proident, sunt in culpa qui officia deserunt mollit anim id est laborum',\n",
       "   u'email': u'alzIzVOS@SDtouFUY.com'},\n",
       "  {u'author': u'Joel Rueter',\n",
       "   u'body': u'Lorem ipsum dolor sit amet, consectetur adipisicing elit, sed do eiusmod tempor incididunt ut labore et dolore magna aliqua. Ut enim ad minim veniam, quis nostrud exercitation ullamco laboris nisi ut aliquip ex ea commodo consequat. Duis aute irure dolor in reprehenderit in voluptate velit esse cillum dolore eu fugiat nulla pariatur. Excepteur sint occaecat cupidatat non proident, sunt in culpa qui officia deserunt mollit anim id est laborum',\n",
       "   u'email': u'oBSwEFCK@zRNmCSwv.com'},\n",
       "  {u'author': u'Rachell Aman',\n",
       "   u'body': u'Lorem ipsum dolor sit amet, consectetur adipisicing elit, sed do eiusmod tempor incididunt ut labore et dolore magna aliqua. Ut enim ad minim veniam, quis nostrud exercitation ullamco laboris nisi ut aliquip ex ea commodo consequat. Duis aute irure dolor in reprehenderit in voluptate velit esse cillum dolore eu fugiat nulla pariatur. Excepteur sint occaecat cupidatat non proident, sunt in culpa qui officia deserunt mollit anim id est laborum',\n",
       "   u'email': u'SrAmXXfN@NhZEqBEd.com'},\n",
       "  {u'author': u'Timothy Harrod',\n",
       "   u'body': u'Lorem ipsum dolor sit amet, consectetur adipisicing elit, sed do eiusmod tempor incididunt ut labore et dolore magna aliqua. Ut enim ad minim veniam, quis nostrud exercitation ullamco laboris nisi ut aliquip ex ea commodo consequat. Duis aute irure dolor in reprehenderit in voluptate velit esse cillum dolore eu fugiat nulla pariatur. Excepteur sint occaecat cupidatat non proident, sunt in culpa qui officia deserunt mollit anim id est laborum',\n",
       "   u'email': u'jwpqzOOm@ethaHnCd.com'},\n",
       "  {u'author': u'Danika Loeffler',\n",
       "   u'body': u'Lorem ipsum dolor sit amet, consectetur adipisicing elit, sed do eiusmod tempor incididunt ut labore et dolore magna aliqua. Ut enim ad minim veniam, quis nostrud exercitation ullamco laboris nisi ut aliquip ex ea commodo consequat. Duis aute irure dolor in reprehenderit in voluptate velit esse cillum dolore eu fugiat nulla pariatur. Excepteur sint occaecat cupidatat non proident, sunt in culpa qui officia deserunt mollit anim id est laborum',\n",
       "   u'email': u'ZFpiFQlp@tUhXPUjs.com'},\n",
       "  {u'author': u'Gwen Honig',\n",
       "   u'body': u'Lorem ipsum dolor sit amet, consectetur adipisicing elit, sed do eiusmod tempor incididunt ut labore et dolore magna aliqua. Ut enim ad minim veniam, quis nostrud exercitation ullamco laboris nisi ut aliquip ex ea commodo consequat. Duis aute irure dolor in reprehenderit in voluptate velit esse cillum dolore eu fugiat nulla pariatur. Excepteur sint occaecat cupidatat non proident, sunt in culpa qui officia deserunt mollit anim id est laborum',\n",
       "   u'email': u'pDsbOdPS@wNZVeJFV.com'},\n",
       "  {u'author': u'Rosana Vales',\n",
       "   u'body': u'Lorem ipsum dolor sit amet, consectetur adipisicing elit, sed do eiusmod tempor incididunt ut labore et dolore magna aliqua. Ut enim ad minim veniam, quis nostrud exercitation ullamco laboris nisi ut aliquip ex ea commodo consequat. Duis aute irure dolor in reprehenderit in voluptate velit esse cillum dolore eu fugiat nulla pariatur. Excepteur sint occaecat cupidatat non proident, sunt in culpa qui officia deserunt mollit anim id est laborum',\n",
       "   u'email': u'ZJMHkiJy@xxTuadFb.com'},\n",
       "  {u'author': u'Leonida Lafond',\n",
       "   u'body': u'Lorem ipsum dolor sit amet, consectetur adipisicing elit, sed do eiusmod tempor incididunt ut labore et dolore magna aliqua. Ut enim ad minim veniam, quis nostrud exercitation ullamco laboris nisi ut aliquip ex ea commodo consequat. Duis aute irure dolor in reprehenderit in voluptate velit esse cillum dolore eu fugiat nulla pariatur. Excepteur sint occaecat cupidatat non proident, sunt in culpa qui officia deserunt mollit anim id est laborum',\n",
       "   u'email': u'soQlVzRI@NLiMrxVz.com'},\n",
       "  {u'author': u'Alica Pasley',\n",
       "   u'body': u'Lorem ipsum dolor sit amet, consectetur adipisicing elit, sed do eiusmod tempor incididunt ut labore et dolore magna aliqua. Ut enim ad minim veniam, quis nostrud exercitation ullamco laboris nisi ut aliquip ex ea commodo consequat. Duis aute irure dolor in reprehenderit in voluptate velit esse cillum dolore eu fugiat nulla pariatur. Excepteur sint occaecat cupidatat non proident, sunt in culpa qui officia deserunt mollit anim id est laborum',\n",
       "   u'email': u'QDyzdXtT@jXwKGEWx.com'},\n",
       "  {u'author': u'Ty Barbieri',\n",
       "   u'body': u'Lorem ipsum dolor sit amet, consectetur adipisicing elit, sed do eiusmod tempor incididunt ut labore et dolore magna aliqua. Ut enim ad minim veniam, quis nostrud exercitation ullamco laboris nisi ut aliquip ex ea commodo consequat. Duis aute irure dolor in reprehenderit in voluptate velit esse cillum dolore eu fugiat nulla pariatur. Excepteur sint occaecat cupidatat non proident, sunt in culpa qui officia deserunt mollit anim id est laborum',\n",
       "   u'email': u'PgWeLTSd@iVxZQUCD.com'},\n",
       "  {u'author': u'Elizabet Kleine',\n",
       "   u'body': u'Lorem ipsum dolor sit amet, consectetur adipisicing elit, sed do eiusmod tempor incididunt ut labore et dolore magna aliqua. Ut enim ad minim veniam, quis nostrud exercitation ullamco laboris nisi ut aliquip ex ea commodo consequat. Duis aute irure dolor in reprehenderit in voluptate velit esse cillum dolore eu fugiat nulla pariatur. Excepteur sint occaecat cupidatat non proident, sunt in culpa qui officia deserunt mollit anim id est laborum',\n",
       "   u'email': u'lqkYrnGX@HHCKClwu.com'},\n",
       "  {u'author': u'Carli Ector',\n",
       "   u'body': u'Lorem ipsum dolor sit amet, consectetur adipisicing elit, sed do eiusmod tempor incididunt ut labore et dolore magna aliqua. Ut enim ad minim veniam, quis nostrud exercitation ullamco laboris nisi ut aliquip ex ea commodo consequat. Duis aute irure dolor in reprehenderit in voluptate velit esse cillum dolore eu fugiat nulla pariatur. Excepteur sint occaecat cupidatat non proident, sunt in culpa qui officia deserunt mollit anim id est laborum',\n",
       "   u'email': u'zLRBxuLv@LkRXzypZ.com'},\n",
       "  {u'author': u'Adrien Renda',\n",
       "   u'body': u'Lorem ipsum dolor sit amet, consectetur adipisicing elit, sed do eiusmod tempor incididunt ut labore et dolore magna aliqua. Ut enim ad minim veniam, quis nostrud exercitation ullamco laboris nisi ut aliquip ex ea commodo consequat. Duis aute irure dolor in reprehenderit in voluptate velit esse cillum dolore eu fugiat nulla pariatur. Excepteur sint occaecat cupidatat non proident, sunt in culpa qui officia deserunt mollit anim id est laborum',\n",
       "   u'email': u'mmauDqDQ@ClricGtF.com'},\n",
       "  {u'author': u'Meagan Oakes',\n",
       "   u'body': u'Lorem ipsum dolor sit amet, consectetur adipisicing elit, sed do eiusmod tempor incididunt ut labore et dolore magna aliqua. Ut enim ad minim veniam, quis nostrud exercitation ullamco laboris nisi ut aliquip ex ea commodo consequat. Duis aute irure dolor in reprehenderit in voluptate velit esse cillum dolore eu fugiat nulla pariatur. Excepteur sint occaecat cupidatat non proident, sunt in culpa qui officia deserunt mollit anim id est laborum',\n",
       "   u'email': u'kSwdDsdn@NdLNogDF.com'},\n",
       "  {u'author': u'Omar Bowdoin',\n",
       "   u'body': u'Lorem ipsum dolor sit amet, consectetur adipisicing elit, sed do eiusmod tempor incididunt ut labore et dolore magna aliqua. Ut enim ad minim veniam, quis nostrud exercitation ullamco laboris nisi ut aliquip ex ea commodo consequat. Duis aute irure dolor in reprehenderit in voluptate velit esse cillum dolore eu fugiat nulla pariatur. Excepteur sint occaecat cupidatat non proident, sunt in culpa qui officia deserunt mollit anim id est laborum',\n",
       "   u'email': u'glbeRCMi@KwnNwhzl.com'}],\n",
       " u'date': datetime.datetime(2012, 11, 20, 5, 5, 15, 231000),\n",
       " u'permalink': u'aRjNnLZkJkTyspAIoRGe',\n",
       " u'tags': [u'watchmaker',\n",
       "  u'santa',\n",
       "  u'xylophone',\n",
       "  u'math',\n",
       "  u'handsaw',\n",
       "  u'dream',\n",
       "  u'undershirt',\n",
       "  u'dolphin',\n",
       "  u'tanker',\n",
       "  u'action'],\n",
       " u'title': u'Bill of Rights'}"
      ]
     },
     "execution_count": 42,
     "metadata": {},
     "output_type": "execute_result"
    }
   ],
   "source": [
    "# Here's an example doc\n",
    "list(db.posts.find())[0]"
   ]
  },
  {
   "cell_type": "code",
   "execution_count": 44,
   "metadata": {
    "collapsed": false
   },
   "outputs": [
    {
     "name": "stdout",
     "output_type": "stream",
     "text": [
      "The slowest run took 13.15 times longer than the fastest. This could mean that an intermediate result is being cached \n",
      "100000 loops, best of 3: 14.6 µs per loop\n"
     ]
    }
   ],
   "source": [
    "# Let's search for posts with the tag 'watchmaker'\n",
    "%timeit db.posts.find({'tags': 'watchmaker'}).sort('date', direction=-1)"
   ]
  },
  {
   "cell_type": "code",
   "execution_count": 45,
   "metadata": {
    "collapsed": false
   },
   "outputs": [
    {
     "data": {
      "text/plain": [
       "u'tags_-1_date_-1'"
      ]
     },
     "execution_count": 45,
     "metadata": {},
     "output_type": "execute_result"
    }
   ],
   "source": [
    "# Now let's add a multi-key index with both tag and date and\n",
    "# then we can rerun the query\n",
    "# Note: Let's make both keys be descending since the most recent posts\n",
    "# are what's wanted and since it really doesn't matter that much\n",
    "# whether the tags keys are ascending or descending\n",
    "db.posts.create_index([('tags', pymongo.DESCENDING),\n",
    "                       ('date', pymongo.DESCENDING)])"
   ]
  },
  {
   "cell_type": "code",
   "execution_count": 49,
   "metadata": {
    "collapsed": false
   },
   "outputs": [
    {
     "name": "stdout",
     "output_type": "stream",
     "text": [
      "The slowest run took 4.91 times longer than the fastest. This could mean that an intermediate result is being cached \n",
      "100000 loops, best of 3: 15.9 µs per loop\n"
     ]
    }
   ],
   "source": [
    "%timeit db.posts.find({'tags': 'watchmaker'}).sort('date', direction=-1)"
   ]
  },
  {
   "cell_type": "code",
   "execution_count": 52,
   "metadata": {
    "collapsed": false
   },
   "outputs": [],
   "source": [
    "# That doesn't really seem to have done the trick...\n",
    "# Let's remove the index and maybe try something else\n",
    "db.posts.drop_index('tags_-1_date_-1')"
   ]
  },
  {
   "cell_type": "code",
   "execution_count": 53,
   "metadata": {
    "collapsed": false
   },
   "outputs": [
    {
     "data": {
      "text/plain": [
       "u'tags_1'"
      ]
     },
     "execution_count": 53,
     "metadata": {},
     "output_type": "execute_result"
    }
   ],
   "source": [
    "# Let's just try to make a 'tags' index, then\n",
    "db.posts.create_index('tags')"
   ]
  },
  {
   "cell_type": "code",
   "execution_count": 61,
   "metadata": {
    "collapsed": false
   },
   "outputs": [
    {
     "name": "stdout",
     "output_type": "stream",
     "text": [
      "The slowest run took 5.93 times longer than the fastest. This could mean that an intermediate result is being cached \n",
      "100000 loops, best of 3: 15.8 µs per loop\n"
     ]
    }
   ],
   "source": [
    "%timeit db.posts.find({'tags': 'watchmaker'}).sort('date', direction=-1)"
   ]
  },
  {
   "cell_type": "code",
   "execution_count": 62,
   "metadata": {
    "collapsed": true
   },
   "outputs": [],
   "source": [
    "# According to output from the explain() method in the mongo shell,\n",
    "# I was able to determine that both the indexes I have tried here\n",
    "# would be useful and would actually win out over the _id index or the\n",
    "# date: -1 index that was created for the first part of this homework.\n",
    "# The date: -1 index is tried and rejected and the _id index, if used,\n",
    "# results in total document lookup of 1000 or more (about one hundred\n",
    "# times larger than when it uses the tags or tags: -1 + date: -1\n",
    "# indexes.\n",
    "# The execution stats for the two indexes tried here seem to be\n",
    "# identical.\n",
    "# Thus, all things being equal (and chalking up the seeming %timeit\n",
    "# disagreement to pymongo overhead and the queries taking close to zero\n",
    "# time, relatively speaking), I believe it best to stick with the\n",
    "# tags index."
   ]
  }
 ],
 "metadata": {
  "kernelspec": {
   "display_name": "Python 2",
   "language": "python",
   "name": "python2"
  },
  "language_info": {
   "codemirror_mode": {
    "name": "ipython",
    "version": 2
   },
   "file_extension": ".py",
   "mimetype": "text/x-python",
   "name": "python",
   "nbconvert_exporter": "python",
   "pygments_lexer": "ipython2",
   "version": "2.7.6"
  }
 },
 "nbformat": 4,
 "nbformat_minor": 0
}
